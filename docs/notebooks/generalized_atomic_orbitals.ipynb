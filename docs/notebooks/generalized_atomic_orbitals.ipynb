{
 "cells": [
  {
   "cell_type": "markdown",
   "metadata": {},
   "source": [
    "## Generalized Orbital Amplitudes"
   ]
  },
  {
   "cell_type": "markdown",
   "metadata": {},
   "source": [
    "Approximated Dyson orbitlas (or generalized orbital amplitudes, GOA)\n",
    "\n",
    "$$g^{EKT}_k (x)= \\sum_j c_{jk} n^{-1/2}_j \\chi_j (x)$$\n",
    "\n",
    "$c_{jk}$ coefﬁcients are the eigenvector solutions to EKT equation  \n",
    "$n$ are the natural spin orbital occupation numbers  \n",
    "$\\chi_j$ are the natural orbitals"
   ]
  },
  {
   "cell_type": "markdown",
   "metadata": {},
   "source": [
    "#### Setup input parameters for PyEOM (define molecular system)"
   ]
  },
  {
   "cell_type": "code",
   "execution_count": 1,
   "metadata": {},
   "outputs": [
    {
     "name": "stdout",
     "output_type": "stream",
     "text": [
      "Atomic numbers \n",
      " [6 8]\n",
      "Atomic coordinates \n",
      " [[0.         0.         0.        ]\n",
      " [2.13161107 0.         0.        ]]\n",
      "Number of basis functions \n",
      " 18\n",
      "Number of electrons \n",
      " 13.999999999999982\n"
     ]
    }
   ],
   "source": [
    "# Import statements\n",
    "import numpy as np\n",
    "from iodata import load_one\n",
    "\n",
    "# Load the molecular coordinates and MOs\n",
    "mol = load_one(\"co_631g.molden\")\n",
    "mo_coeffs = mol.mo.coeffs                        # (nAOs, nMOs)\n",
    "mo_coeffs_ab = np.hstack((mo_coeffs, mo_coeffs)) # Spin-up orbital, and spin-down MO coeffs\n",
    "\n",
    "# Load the one- and two-electron integrals in the restricted MO basis\n",
    "one_int = np.load('co_631g_oneint.npy') #find_datafiles\n",
    "two_int = np.load('co_631g_twoint.npy')\n",
    "norba = one_int.shape[0]\n",
    "\n",
    "# Load the 1- and 2-RDMs for the HCI wfn model (non-zero spin blocks only)\n",
    "dm1 = np.load(\"co_631g_hci_5e-4_1dm.npy\") # (aa, bb)\n",
    "dm2 = np.load(\"co_631g_hci_5e-4_2dm.npy\") # (aa, bb, ab)\n",
    "\n",
    "\n",
    "# Print molecule information\n",
    "print(\"Atomic numbers \\n\", mol.atnums)\n",
    "print(\"Atomic coordinates \\n\", mol.atcoords)\n",
    "print(\"Number of basis functions \\n\", norba)\n",
    "print(\"Number of electrons \\n\", np.trace(dm1[0] + dm1[1]))"
   ]
  },
  {
   "cell_type": "code",
   "execution_count": 2,
   "metadata": {},
   "outputs": [
    {
     "name": "stdout",
     "output_type": "stream",
     "text": [
      "Spinized one int dimensions:  (36, 36)\n",
      "Spinized 1RDM dimensions:  (36, 36)\n"
     ]
    }
   ],
   "source": [
    "from eomee.tools import find_datafiles, hartreefock_rdms\n",
    "from eomee.tools import spinize, spinize_rdms\n",
    "\n",
    "# Conver integrals and RDMs to generalized orbital basis\n",
    "oneint = spinize(one_int) # (k,k) --> (2k, 2k) matrix dimensions\n",
    "twoint = spinize(two_int) # (k,k,k,k) --> (2k, 2k, 2k, 2k) array dimensions\n",
    "rdm1 = spinize_rdms(dm1)\n",
    "rdm2 = spinize_rdms(dm2)\n",
    "\n",
    "# # Generate the 1- and 2-RDMs for the Hartree-Fock wfn model\n",
    "# nelecs = (7,7)\n",
    "# rdm1, rdm2 = hartreefock_rdms(norba, *nelecs)\n",
    "\n",
    "print(\"Spinized one int dimensions: \", oneint.shape)\n",
    "print(\"Spinized 1RDM dimensions: \", rdm1.shape)"
   ]
  },
  {
   "cell_type": "code",
   "execution_count": 11,
   "metadata": {},
   "outputs": [
    {
     "name": "stdout",
     "output_type": "stream",
     "text": [
      "(36, 36)\n",
      "[9.99980806e-01 9.99980806e-01 9.99962892e-01 9.99962892e-01\n",
      " 9.94796909e-01 9.94796909e-01 9.88807054e-01 9.88807054e-01\n",
      " 9.77756330e-01 9.77756330e-01 9.72392622e-01 9.72392621e-01\n",
      " 9.72392620e-01 9.72392620e-01 3.15742379e-02 3.15742374e-02\n",
      " 3.15742367e-02 3.15742359e-02 1.05780949e-02 1.05780948e-02\n",
      " 5.88362018e-03 5.88362013e-03 4.10141182e-03 4.10141180e-03\n",
      " 3.31491044e-03 3.31491039e-03 3.31491027e-03 3.31491027e-03\n",
      " 1.57016048e-03 1.57016048e-03 7.52205389e-04 7.52205337e-04\n",
      " 7.52205321e-04 7.52205300e-04 4.94774292e-04 4.94774273e-04]\n"
     ]
    }
   ],
   "source": [
    "# nto_o, w, nto_vT = np.linalg.svd(rdm1)\n",
    "# occupied_nto = np.dot(mo_coeffs_ab, nto_o)\n",
    "# print(w)"
   ]
  },
  {
   "cell_type": "markdown",
   "metadata": {},
   "source": [
    "##### Run an Extended Koopman's Theorem calculation"
   ]
  },
  {
   "cell_type": "code",
   "execution_count": 3,
   "metadata": {},
   "outputs": [
    {
     "name": "stdout",
     "output_type": "stream",
     "text": [
      "Warning: 8 complex eigenvalues found. \n",
      "              These will be removed from the final solution set.\n",
      "n  EDiff.(a.u.)\n",
      "0  13.7  \n",
      "1  13.7  \n",
      "2  17.3  \n",
      "3  17.3  \n",
      "4  20.5  \n",
      "5  20.5  \n",
      "6  32.2  \n",
      "7  32.2  \n",
      "8  36.7  \n",
      "9  36.7  \n"
     ]
    }
   ],
   "source": [
    "from eomee.ionization import EOMIP, EOMIPa\n",
    "\n",
    "# Build de EKT matrix equation\n",
    "ekt = EOMIP(oneint, twoint, rdm1, rdm2)\n",
    "\n",
    "# Solve the EOM eigenvalue problem\n",
    "ev, cv = ekt.solve_dense()\n",
    "\n",
    "# Print the first 5 ionization energies\n",
    "print(\"{0:<2s} {1:<6s}\".format('n', 'EDiff.(a.u.)'))\n",
    "for i, e in enumerate(ev[:10]):\n",
    "    print(\"{0:<2} {1:<6.3}\".format(i, e*27.12))"
   ]
  },
  {
   "cell_type": "code",
   "execution_count": 4,
   "metadata": {},
   "outputs": [
    {
     "name": "stdout",
     "output_type": "stream",
     "text": [
      "(array([ 3,  6,  9, 12, 13, 16, 17]),)\n",
      "[0.01378314 0.24403437 0.03510692 0.01282662 0.62244062 0.03158914\n",
      " 0.33582341 0.11260216 0.12574587 0.02624973 0.01075664 0.02990765\n",
      " 0.07060648 0.01204153 0.08799223 0.2634807  0.15431741 0.0122494\n",
      " 0.05921779 0.04207764 0.01857728 0.07305319]\n"
     ]
    }
   ],
   "source": [
    "# Evaluate GOA\n",
    "state_idx = 1\n",
    "natorb_occs = np.diag(rdm1)\n",
    "ncv = np.sqrt(natorb_occs) * cv[state_idx]\n",
    "gao_coeffs = np.einsum(\"ni,i->ni\", mo_coeffs_ab, ncv)\n",
    "\n",
    "\n",
    "# Print molecule information\n",
    "print(np.where(np.abs(ncv) > 0.01))\n",
    "mask = gao_coeffs[:,:norba] > 0.01\n",
    "print(gao_coeffs[:,:norba][mask])\n",
    "\n",
    "# Pick orbital for Isosurface\n",
    "idx = 6"
   ]
  },
  {
   "cell_type": "code",
   "execution_count": 5,
   "metadata": {},
   "outputs": [],
   "source": [
    "# from grid import UniformGrid\n",
    "\n",
    "# # create a uniform grid for the molecule (interface to cube files)\n",
    "# mol_grid = UniformGrid.from_molecule(mol.atnums, mol.atcoords, spacing=0.5, extension=5.0, rotate=True)\n",
    "\n",
    "# print(f\"Number of points in the molecule grid: {mol_grid.size}\")"
   ]
  },
  {
   "cell_type": "code",
   "execution_count": 6,
   "metadata": {},
   "outputs": [],
   "source": [
    "from gbasis.wrappers import from_iodata\n",
    "from gbasis.evals.density import evaluate_basis\n",
    "\n",
    "# Compute expected GOA values using GBasis\n",
    "ao_basis = from_iodata(mol)\n",
    "# mo_vals = evaluate_basis(ao_basis, mol_grid.points, transform=gao_coeffs[:,:norba].T)\n",
    "# homo_vals = mo_vals[idx, :]\n",
    "\n",
    "# mol_grid.generate_cube(\n",
    "#     fname=\"co_goa_alpha.cube\",\n",
    "#     data=homo_vals,\n",
    "#     atcoords=mol.atcoords,\n",
    "#     atnums=mol.atnums,\n",
    "#     pseudo_numbers=mol.atcorenums,\n",
    "# )"
   ]
  },
  {
   "cell_type": "code",
   "execution_count": 7,
   "metadata": {},
   "outputs": [
    {
     "name": "stdout",
     "output_type": "stream",
     "text": [
      "Number of points in the planar grid: 1600\n"
     ]
    },
    {
     "data": {
      "image/png": "[encoded data removed]",
      "text/plain": [
       "<Figure size 648x432 with 1 Axes>"
      ]
     },
     "metadata": {
      "needs_background": "light"
     },
     "output_type": "display_data"
    }
   ],
   "source": [
    "import matplotlib.pyplot as plt\n",
    "\n",
    "# create a planar grid for the molecule\n",
    "coord_limit = 5\n",
    "plt_pts = 40\n",
    "plt_lmts = [-coord_limit, coord_limit, -coord_limit, coord_limit]\n",
    "x_vals = np.linspace(-coord_limit, coord_limit, plt_pts)\n",
    "y_vals = x_vals\n",
    "\n",
    "# Sample 3D points uniformly in the molecular xy-plane (z=0)\n",
    "x_vals, y_vals = np.meshgrid(x_vals, y_vals)\n",
    "x_vals, y_vals = x_vals.flatten(), y_vals.flatten()\n",
    "z_vals = np.zeros_like(x_vals)\n",
    "points = np.array([x_vals, y_vals, z_vals]).T  # gbasis evaluates at 3D points\n",
    "\n",
    "print(f\"Number of points in the planar grid: {len(points)}\")\n",
    "\n",
    "# Compute expected GOA values using GBasis\n",
    "mo_vals = evaluate_basis(ao_basis, points, transform=gao_coeffs[:,:norba].T)\n",
    "homo_vals = mo_vals[idx, :]\n",
    "\n",
    "# plot the GOA as contour plot\n",
    "fig = plt.figure(figsize=(9, 6))\n",
    "ax1 = fig.add_subplot(111, aspect=\"equal\")\n",
    "ax1.set_title(\"Approximate Dyson orbital Contour Plot\")\n",
    "ax1.set_xlabel(\"x-axis\")\n",
    "ax1.set_ylabel(\"y-axis\")\n",
    "\n",
    "X = points[:, 0].reshape(plt_pts, plt_pts)\n",
    "Y = points[:, 1].reshape(plt_pts, plt_pts)\n",
    "Z = homo_vals.reshape(plt_pts, plt_pts)\n",
    "# Add contour plot of the GOA\n",
    "cs = ax1.contour(X, Y, Z, levels=np.linspace(-0.1, 0.1, 7), colors=\"k\")\n",
    "# Add atomic symbols to the plots\n",
    "symbols = [\"C\", \"O\"]\n",
    "xy_coords = mol.atcoords[:, :2]\n",
    "for coord, symbol in zip(xy_coords, symbols):\n",
    "    ax1.text(\n",
    "        coord[0],\n",
    "        coord[1],\n",
    "        symbol,\n",
    "        color=\"red\",\n",
    "        ha=\"center\",\n",
    "        va=\"center\",\n",
    "        fontsize=14,\n",
    "        fontweight=\"bold\",\n",
    "    )\n",
    "\n",
    "plt.tight_layout()  # Adjust layout for better spacing\n",
    "plt.show()"
   ]
  }
 ],
 "metadata": {
  "kernelspec": {
   "display_name": "GNN",
   "language": "python",
   "name": "python3"
  },
  "language_info": {
   "codemirror_mode": {
    "name": "ipython",
    "version": 3
   },
   "file_extension": ".py",
   "mimetype": "text/x-python",
   "name": "python",
   "nbconvert_exporter": "python",
   "pygments_lexer": "ipython3",
   "version": "3.7.12"
  }
 },
 "nbformat": 4,
 "nbformat_minor": 2
}
