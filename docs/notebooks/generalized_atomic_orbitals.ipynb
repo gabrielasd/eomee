{
 "cells": [
  {
   "cell_type": "markdown",
   "metadata": {},
   "source": [
    "## Generalized Orbital Amplitudes\n",
    "\n",
    "This tutorial demonstrates how to obtain the generalized orbital amplitudes (GOAs) or Feynman-Dyson orbitals from the solutions to the Extended Koopmans' Theorem (EKT). The GOAs arise, for example, when modelling the intensities of transitions observed in photoelectron spectroscopy. As evaluated from EKT they provide a similar one-electron description to the molecular orbitals useful for interpretation of molecular structure and bonding. This is especially valuable for correlated electronic\tstructure methods where the orbital picture is otherwise obscure."
   ]
  },
  {
   "cell_type": "markdown",
   "metadata": {},
   "source": [
    "In this tutorial we will:\n",
    "1. Specify a molecular system\n",
    "2. Calculate its ionization spectrum with EKT\n",
    "3. Evaluate the GOAs\n",
    "4. Visualize the GOAs by creating a countour plot\n",
    "\n",
    "Through this notebook the CO molecule will be used as an example."
   ]
  },
  {
   "cell_type": "markdown",
   "metadata": {},
   "source": [
    "### 1. Specify the molecular system\n",
    "\n",
    "We use [IOData](https://iodata.readthedocs.io/en/latest/) to load the atomic coordinates and the molecular orbitals needed latter on for the evaluation of the GOAs. The molecular orbitals were obtained from a previous calculation at the HF/6-31G level of theory."
   ]
  },
  {
   "cell_type": "code",
   "execution_count": 1,
   "metadata": {},
   "outputs": [
    {
     "name": "stdout",
     "output_type": "stream",
     "text": [
      "Atomic numbers \n",
      " [6 8]\n",
      "Atomic coordinates \n",
      " [[0.         0.         0.        ]\n",
      " [2.13161107 0.         0.        ]]\n"
     ]
    }
   ],
   "source": [
    "# Import statements\n",
    "import numpy as np\n",
    "from iodata import load_one\n",
    "from eomee.tools import find_datafiles\n",
    "\n",
    "\n",
    "# Load the molecular coordinates and MOs\n",
    "mol = load_one(find_datafiles(\"co_631g.molden\"))\n",
    "mo_coeffs = mol.mo.coeffs                        # (nAOs, nMOs)\n",
    "mo_coeffs_ab = np.hstack((mo_coeffs, mo_coeffs)) # Spin-up orbital, and spin-down MO coeffs\n",
    "\n",
    "\n",
    "# Print information about the molecule\n",
    "print(\"Atomic numbers \\n\", mol.atnums)\n",
    "print(\"Atomic coordinates \\n\", mol.atcoords)"
   ]
  },
  {
   "cell_type": "markdown",
   "metadata": {},
   "source": [
    "### 2. Find the CO ionization energies\n",
    "\n",
    "The ionization potentials and corresponding orbital amplitudes for the CO molecule are found running an EKT calculation.\n",
    "In this tutorial the 1- and 2-RDMs neded by EKT come from an HCI calculation with the 6-31G basis set and epsilon variable of $5 \\times 10^{-4}$ (HCI stands for the Heat-Bath Configuration Interaction wavefunction method).\n",
    "The necesary input parameters for EKT are defined in the following cell."
   ]
  },
  {
   "cell_type": "code",
   "execution_count": 2,
   "metadata": {},
   "outputs": [
    {
     "name": "stdout",
     "output_type": "stream",
     "text": [
      "Number of basis functions \n",
      " 18\n",
      "Number of electrons \n",
      " 13.999999999999982\n",
      "Spinized one int dimensions:  (36, 36)\n",
      "Spinized 1RDM dimensions:  (36, 36)\n"
     ]
    }
   ],
   "source": [
    "from eomee.tools import spinize, spinize_rdms\n",
    "\n",
    "\n",
    "# Load the one- and two-electron integrals in the restricted MO basis\n",
    "one_int = np.load(find_datafiles(\"co_631g_oneint.npy\"))\n",
    "two_int = np.load(find_datafiles(\"co_631g_twoint.npy\"))\n",
    "norba = one_int.shape[0]\n",
    "\n",
    "# Load the 1- and 2-RDMs for the HCI wfn model (non-zero spin blocks only)\n",
    "dm1 = np.load(find_datafiles(\"co_631g_hci_5e-4_1dm.npy\")) # (aa, bb)\n",
    "dm2 = np.load(find_datafiles(\"co_631g_hci_5e-4_2dm.npy\")) # (aa, bb, ab)\n",
    "\n",
    "# # Uncomment the following lines to generate the 1- and 2-RDMs for the Hartree-Fock wfn model instead\n",
    "# # of the HCI one.\n",
    "# from eomee.tools import hartreefock_rdms\n",
    "# nelecs = (7,7) # Number of alpha and beta electrons in the CO molecule\n",
    "# rdm1, rdm2 = hartreefock_rdms(norba, *nelecs)\n",
    "\n",
    "# Conver electron integrals and RDMs to the generalized orbital basis\n",
    "oneint = spinize(one_int) # (k,k) --> (2k, 2k) matrix dimensions\n",
    "twoint = spinize(two_int) # (k,k,k,k) --> (2k, 2k, 2k, 2k) array dimensions\n",
    "rdm1 = spinize_rdms(dm1)\n",
    "rdm2 = spinize_rdms(dm2)\n",
    "\n",
    "\n",
    "print(\"Number of basis functions \\n\", norba)\n",
    "print(\"Number of electrons \\n\", np.trace(dm1[0] + dm1[1]))\n",
    "print(\"Spinized one int dimensions: \", oneint.shape)\n",
    "print(\"Spinized 1RDM dimensions: \", rdm1.shape)"
   ]
  },
  {
   "cell_type": "code",
   "execution_count": 3,
   "metadata": {},
   "outputs": [],
   "source": [
    "# nto_o, w, nto_vT = np.linalg.svd(rdm1)\n",
    "# occupied_nto = np.dot(mo_coeffs_ab, nto_o)\n",
    "# print(w)"
   ]
  },
  {
   "cell_type": "code",
   "execution_count": 4,
   "metadata": {},
   "outputs": [
    {
     "name": "stdout",
     "output_type": "stream",
     "text": [
      "Warning: 8 complex eigenvalues found. \n",
      "              These will be removed from the final solution set.\n",
      "n  EDiff.(a.u.)\n",
      "0  13.7  \n",
      "1  13.7  \n",
      "2  17.3  \n",
      "3  17.3  \n",
      "4  20.5  \n",
      "5  20.5  \n",
      "6  32.2  \n",
      "7  32.2  \n",
      "8  36.7  \n",
      "9  36.7  \n"
     ]
    }
   ],
   "source": [
    "from eomee.eomip import IP\n",
    "\n",
    "# Build de EKT matrix equation\n",
    "ekt = IP(oneint, twoint, rdm1, rdm2)\n",
    "\n",
    "# Solve the EOM eigenvalue problem\n",
    "ev, cv = ekt.solve_dense()\n",
    "\n",
    "# Print the first 5 ionization energies\n",
    "print(\"{0:<2s} {1:<6s}\".format('n', 'EDiff.(a.u.)'))\n",
    "for i, e in enumerate(ev[:10]):\n",
    "    print(\"{0:<2} {1:<6.3}\".format(i, e*27.12))"
   ]
  },
  {
   "cell_type": "markdown",
   "metadata": {},
   "source": [
    "### 3. Evaluate the GOAs\n",
    "\n",
    "Once the IPs and corresponding transition coefficients are obtained, the approximate GOAs can be generated using the following formula:\n",
    "\n",
    "<!-- Approximate Dyson orbitlas (or generalized orbital amplitudes, GOA) -->\n",
    "\n",
    "$$g^{EKT}_k (x)= \\sum_j c_{jk} n^{-1/2}_j \\chi_j (x)$$\n",
    "\n",
    "$c_{jk}$ coefﬁcients are the eigenvector solutions to EKT  \n",
    "$n_j$ are the natural spin orbital occupation numbers  \n",
    "$\\chi_j$ are the natural orbitals"
   ]
  },
  {
   "cell_type": "code",
   "execution_count": 5,
   "metadata": {},
   "outputs": [
    {
     "name": "stdout",
     "output_type": "stream",
     "text": [
      "Spin-orbital components of the eigenvector \n",
      " [ 6 12 17]\n",
      "Transition amplitudes \n",
      " [ 0.28675253  0.06261803 -0.01400078]\n"
     ]
    }
   ],
   "source": [
    "# Select one of the (N-1) ionized states to evaluate the GOAs.\n",
    "# We will select the first ionized state corresponding to an electron with alpha spin being removed.\n",
    "state_idx = 1\n",
    "\n",
    "# Compute the GOA coefficients\n",
    "natorb_occs = np.diag(rdm1)\n",
    "ncv = np.sqrt(natorb_occs) * cv[state_idx]\n",
    "goa_coeffs = np.einsum(\"ni,i->ni\", mo_coeffs_ab, ncv)\n",
    "\n",
    "\n",
    "# Check the spin-orbitals with highest transition amplitudes for the selected ionized state\n",
    "spins_indx = np.where(np.abs(ncv) > 0.01)\n",
    "print(\"Spin-orbital components of the eigenvector \\n\", spins_indx[0])\n",
    "print(\"Transition amplitudes \\n\", ncv[spins_indx])"
   ]
  },
  {
   "cell_type": "markdown",
   "metadata": {},
   "source": [
    "### 4. Visualize the GOAs"
   ]
  },
  {
   "cell_type": "markdown",
   "metadata": {},
   "source": [
    "To visualize the GOAs we generate a 2-D grid of points and evaluate the orbitals on the grid points using [GBasis](https://gbasis.qcdevs.org/intro.html)."
   ]
  },
  {
   "cell_type": "code",
   "execution_count": 6,
   "metadata": {},
   "outputs": [
    {
     "name": "stdout",
     "output_type": "stream",
     "text": [
      "Number of points in the planar grid: 1600\n"
     ]
    }
   ],
   "source": [
    "# Create a planar grid for the molecule\n",
    "coord_limit = 5\n",
    "plt_pts = 40\n",
    "plt_lmts = [-coord_limit, coord_limit, -coord_limit, coord_limit]\n",
    "x_vals = np.linspace(-coord_limit, coord_limit, plt_pts)\n",
    "y_vals = x_vals\n",
    "\n",
    "# Sample 3D points uniformly in the molecular xy-plane (z=0)\n",
    "x_vals, y_vals = np.meshgrid(x_vals, y_vals)\n",
    "x_vals, y_vals = x_vals.flatten(), y_vals.flatten()\n",
    "z_vals = np.zeros_like(x_vals)\n",
    "points = np.array([x_vals, y_vals, z_vals]).T  # gbasis evaluates at 3D points\n",
    "\n",
    "print(f\"Number of points in the planar grid: {len(points)}\")"
   ]
  },
  {
   "cell_type": "code",
   "execution_count": 7,
   "metadata": {},
   "outputs": [],
   "source": [
    "from gbasis.wrappers import from_iodata\n",
    "from gbasis.evals.density import evaluate_basis\n",
    "\n",
    "# Evaluate the GOAs in the grid points using GBasis\n",
    "ao_basis = from_iodata(mol)\n",
    "mo_vals = evaluate_basis(ao_basis, points, transform=goa_coeffs[:,:norba].T)"
   ]
  },
  {
   "cell_type": "code",
   "execution_count": 8,
   "metadata": {},
   "outputs": [
    {
     "data": {
      "image/png": "[encoded data removed]",
      "text/plain": [
       "<Figure size 648x432 with 1 Axes>"
      ]
     },
     "metadata": {
      "needs_background": "light"
     },
     "output_type": "display_data"
    }
   ],
   "source": [
    "import matplotlib.pyplot as plt\n",
    "\n",
    "# Pick an orbital for the Isosurface\n",
    "idx = 6\n",
    "homo_vals = mo_vals[idx, :]\n",
    "\n",
    "# plot the GOA as contour plot\n",
    "fig = plt.figure(figsize=(9, 6))\n",
    "ax1 = fig.add_subplot(111, aspect=\"equal\")\n",
    "ax1.set_title(\"Approximate Dyson orbital Contour Plot\")\n",
    "ax1.set_xlabel(\"x-axis\")\n",
    "ax1.set_ylabel(\"y-axis\")\n",
    "\n",
    "X = points[:, 0].reshape(plt_pts, plt_pts)\n",
    "Y = points[:, 1].reshape(plt_pts, plt_pts)\n",
    "Z = homo_vals.reshape(plt_pts, plt_pts)\n",
    "# Add contour plot of the GOA\n",
    "cs = ax1.contour(X, Y, Z, levels=np.linspace(-0.1, 0.1, 7), colors=\"k\")\n",
    "# Add atomic symbols to the plots\n",
    "symbols = [\"C\", \"O\"]\n",
    "xy_coords = mol.atcoords[:, :2]\n",
    "for coord, symbol in zip(xy_coords, symbols):\n",
    "    ax1.text(\n",
    "        coord[0],\n",
    "        coord[1],\n",
    "        symbol,\n",
    "        color=\"red\",\n",
    "        ha=\"center\",\n",
    "        va=\"center\",\n",
    "        fontsize=14,\n",
    "        fontweight=\"bold\",\n",
    "    )\n",
    "\n",
    "plt.tight_layout()  # Adjust layout for better spacing\n",
    "plt.show()"
   ]
  }
 ],
 "metadata": {
  "kernelspec": {
   "display_name": "GNN",
   "language": "python",
   "name": "python3"
  },
  "language_info": {
   "codemirror_mode": {
    "name": "ipython",
    "version": 3
   },
   "file_extension": ".py",
   "mimetype": "text/x-python",
   "name": "python",
   "nbconvert_exporter": "python",
   "pygments_lexer": "ipython3",
   "version": "3.7.12"
  }
 },
 "nbformat": 4,
 "nbformat_minor": 2
}
