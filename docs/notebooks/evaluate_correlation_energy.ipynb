{
 "cells": [
  {
   "cell_type": "markdown",
   "metadata": {},
   "source": [
    "## Correlation energy corrections with the adiabatic connection approximation \n",
    "\n",
    "This package also provides routines to compute the residual correlation energy for general multideterminant wavefunction approximations using the AC-ERPA approach.\n",
    "\n",
    "\n",
    "The expression for the correlation energy based on the adiabatic connection is given by:\n",
    "\n",
    "\\begin{align}\n",
    "    E_{c} &= \\braket{\\Psi^{\\lambda=1}_0 | \\hat{H} | \\Psi^{\\lambda=1}_0} - \\braket{\\Psi^{\\lambda=0}_0 | \\hat{H} | \\Psi^{\\lambda=0}_0}\\\\\n",
    "\t&=\\frac{1}{2} \\int_{0}^{1} \\sum_{pqrs}  (g^{\\lambda=1}_{pqrs} - g^{\\lambda=0}_{prqs})\n",
    "\t(\\Gamma^{\\lambda}_{pqrs} - \\Gamma^{\\lambda=0}_{pqrs}) d \\lambda\n",
    "\\end{align}\n",
    "where $g^{\\lambda=1}_{pqrs}$ and $g^{\\lambda=0}_{pqrs}$ are the two-electron integrals from the real and model Hamiltonians, respectively,\n",
    "and $\\Gamma^{\\lambda}_{pqrs}$ and $\\Gamma^{\\lambda=0}_{pqrs}$ are the 2-RDMs at every perturbation strength value $\\lambda$ and for the reference state, respectively. The two-electron integrals are defined in **physicist's** notation as $g_{pqrs} = <p q| r s> $.\n",
    "\n",
    "In this tutorial the perturbation dependent 2-RDMs ($\\Gamma^{\\lambda}_{pqrs}$) will be computed using the particle-hole ERPA approach. Through this examples we use the $H_4$ chain molecule as simple demonstration system.\n",
    "\n",
    "Tasks:\n",
    " - Compute the correlation energy based on the AC-ERPA for the Hartree-Fock (HF) and DOCI approximations.\n",
    " - Plot the adiabatic connection integrand for the DOCI correction.\n"
   ]
  },
  {
   "cell_type": "code",
   "execution_count": null,
   "metadata": {},
   "outputs": [],
   "source": [
    "#\n",
    "# If running this notebook in Google colab, uncomment the following lines to install PyEOM and download\n",
    "# the necessary data files.\n",
    "#\n",
    "\n",
    "# ! python -m pip install git+https://github.com/gabrielasd/pyeom.git\n",
    "\n",
    "# import os\n",
    "# from urllib.request import urlretrieve\n",
    "\n",
    "# # download the required data files\n",
    "# file_path_1 = \"h4_chain_1.40_631g_oneint.npy\"\n",
    "# if not os.path.isfile(file_path_1):\n",
    "#   url = \"https://github.com/gabrielasd/eomee/tree/master/eomee/test/data/h4_chain_1.40_631g_oneint.npy?raw=true\"\n",
    "#   urlretrieve(url, file_path_1)\n",
    "# file_path_2 = \"h4_chain_1.40_631g_twoint.npy\"\n",
    "# if not os.path.isfile(file_path_2):\n",
    "#     url = \"https://github.com/gabrielasd/eomee/tree/master/eomee/test/data/h4_chain_1.40_631g_twoint.npy?raw=true\"\n",
    "#     urlretrieve(url, file_path_2)\n",
    "# file_path_3 = \"h4_chain_1.40_631g_doci_rdm1.npy\"\n",
    "# if not os.path.isfile(file_path_1):\n",
    "#   url = \"https://github.com/gabrielasd/eomee/tree/master/eomee/test/data/h4_chain_1.40_631g_doci_rdm1.npy?raw=true\"\n",
    "#   urlretrieve(url, file_path_1)\n",
    "# file_path_4 = \"h4_chain_1.40_631g_doci_rdm2.npy\"\n",
    "# if not os.path.isfile(file_path_2):\n",
    "#     url = \"https://github.com/gabrielasd/eomee/tree/master/eomee/test/data/h4_chain_1.40_631g_doci_rdm2.npy?raw=true\"\n",
    "#     urlretrieve(url, file_path_2)\n"
   ]
  },
  {
   "cell_type": "code",
   "execution_count": 1,
   "metadata": {},
   "outputs": [],
   "source": [
    "import numpy as np\n",
    "\n",
    "from eomee.test import find_datafile\n",
    "from eomee.tools.tools import hartreefock_rdms, spinize, spinize_rdms\n",
    "from eomee.tools.tools import make_spinized_fock_hamiltonian, make_doci_ham_spinized\n",
    "from eomee.spinadapted.excitation import eval_ecorr, ac_integrand_pherpa"
   ]
  },
  {
   "cell_type": "code",
   "execution_count": 2,
   "metadata": {},
   "outputs": [],
   "source": [
    "# Set up the calculation taking the H4 chain at 1.40 Bohr as an example.\n",
    "# Load the electron integrals and specify the number of electrons and basis functions\n",
    "one_int = np.load(find_datafile('h4_chain_1.40_631g_oneint.npy'))\n",
    "two_int = np.load(find_datafile('h4_chain_1.40_631g_twoint.npy'))\n",
    "nbasis = one_int.shape[0]\n",
    "nelecs = (2, 2)  # number of alpha and beta electrons"
   ]
  },
  {
   "cell_type": "markdown",
   "metadata": {},
   "source": [
    "To run this type of calculation the user needs to specify:\n",
    "1. the Hamiltonian for the real/fully-interacting system\n",
    "2. the Hamiltonian corresponding to a given wavefunction approximation \n",
    "3. the 1- and 2-RDMs for the approximate wavefunction"
   ]
  },
  {
   "cell_type": "markdown",
   "metadata": {},
   "source": [
    "### Example 1: Hartree-Fock (HF) model system"
   ]
  },
  {
   "cell_type": "code",
   "execution_count": 3,
   "metadata": {},
   "outputs": [],
   "source": [
    "# 1. Build the Hamiltonians for the real system (at lambda=1)\n",
    "h1 = spinize(one_int)\n",
    "v1 = spinize(two_int)"
   ]
  },
  {
   "cell_type": "code",
   "execution_count": 4,
   "metadata": {},
   "outputs": [],
   "source": [
    "# 3. Obtain the density matrices for the model system (at lambda=0).\n",
    "# Here we take non-interacting system as described by Hartree-Fock.\n",
    "rdm1_hf, rdm2_hf = hartreefock_rdms(nbasis, *nelecs)"
   ]
  },
  {
   "cell_type": "code",
   "execution_count": 5,
   "metadata": {},
   "outputs": [],
   "source": [
    "# 2. Build the Hamiltonian for the model system.\n",
    "# For the zeroth-order approximation given by Hartree-Fock, the utility function `make_spinized_fock_hamiltonian`\n",
    "# can be used to help build the necessary one- and two-electron integrals.\n",
    "h0, v0 = make_spinized_fock_hamiltonian(one_int, two_int, rdm1_hf)"
   ]
  },
  {
   "cell_type": "markdown",
   "metadata": {},
   "source": [
    "The cell bellow shows how to compute the correlation energy for the Hartree-Fock (HF) approximation based\n",
    "on the AC-ERPA method."
   ]
  },
  {
   "cell_type": "code",
   "execution_count": 6,
   "metadata": {},
   "outputs": [
    {
     "name": "stdout",
     "output_type": "stream",
     "text": [
      "Ecorr (HF) =  -0.042217146604025424\n"
     ]
    }
   ],
   "source": [
    "ecorr_hf = eval_ecorr(h0, v0, h1, v1, rdm1_hf, rdm2_hf)\n",
    "\n",
    "\n",
    "print(\"Ecorr (HF) = \", ecorr_hf)"
   ]
  },
  {
   "cell_type": "markdown",
   "metadata": {},
   "source": [
    "### Example 2: Double Occupied Configuration Interaction (DOCI) approximation"
   ]
  },
  {
   "cell_type": "markdown",
   "metadata": {},
   "source": [
    "Repeat steps 2. and 3. from the previous example taking the model system as described by the DOCI wavefunction approximation."
   ]
  },
  {
   "cell_type": "code",
   "execution_count": 7,
   "metadata": {},
   "outputs": [],
   "source": [
    "# 2. Load the density matrices for the DOCI reference\n",
    "dm1 = np.load(find_datafile('h4_chain_1.40_631g_doci_rdm1.npy'))\n",
    "dm2_aa, dm2_ab, dm2_bb = np.load(find_datafile('h4_chain_1.40_631g_doci_rdm2.npy'))\n",
    "rdm1_doci = spinize_rdms(dm1)\n",
    "rdm2_doci = spinize_rdms([dm2_aa, dm2_bb, dm2_ab])\n",
    "\n",
    "\n",
    "# 3. Build the Hamiltonians for DOCI (at lambda=0)\n",
    "h0_doci, v0_doci = make_doci_ham_spinized(one_int, two_int)"
   ]
  },
  {
   "cell_type": "code",
   "execution_count": 8,
   "metadata": {},
   "outputs": [
    {
     "name": "stdout",
     "output_type": "stream",
     "text": [
      "Ecorr =  -0.00814677529708373\n"
     ]
    }
   ],
   "source": [
    "# Compute the residual correlation energy for DOCI\n",
    "ecorr_doci = eval_ecorr(h0_doci, v0_doci, h1, v1, rdm1_doci, rdm2_doci)\n",
    "\n",
    "\n",
    "print(\"Ecorr = \", ecorr_doci)"
   ]
  },
  {
   "cell_type": "markdown",
   "metadata": {},
   "source": [
    "### Visualize the adiabadic connection integrand for the AC-ERPA correction.\n",
    "\n",
    "By specifiying the perturbation parameter $\\lambda$ between 0 and 1 one can compute the adiabatic connection integrand for the DOCI zeroth-order approximation.\n",
    "Using the function `ac_integrand_pherpa` of the `particlehole` module. This function requires the following arguments:\n"
   ]
  },
  {
   "cell_type": "code",
   "execution_count": 9,
   "metadata": {},
   "outputs": [],
   "source": [
    "# Define the path for the perturbation parameter\n",
    "lambdas = np.arange(0.0, 1.2, 0.2)\n",
    "\n",
    "# Get the one- and two-electron perturbation operators matrix elements (denoted as dh and dv)\n",
    "dh = h1 - h0_doci\n",
    "dv = v1 - v0_doci\n",
    "\n",
    "# Compute the integrand for the AC correction\n",
    "params = (h0_doci, v0_doci, dh, dv, rdm1_doci, rdm2_doci)\n",
    "Itotal_doci = [ac_integrand_pherpa(ld, *params) for ld in lambdas]"
   ]
  },
  {
   "cell_type": "code",
   "execution_count": 10,
   "metadata": {},
   "outputs": [
    {
     "data": {
      "image/png": "[encoded data removed]",
      "text/plain": [
       "<Figure size 432x288 with 1 Axes>"
      ]
     },
     "metadata": {
      "needs_background": "light"
     },
     "output_type": "display_data"
    }
   ],
   "source": [
    "# Plot the AC integrand\n",
    "import matplotlib.pyplot as plt\n",
    "\n",
    "\n",
    "plt.plot(lambdas, Itotal_doci, label=f'W(a) DOCI', marker='s')\n",
    "plt.axhline(y = 0.00, color = 'k', linestyle = ':') \n",
    "plt.xlim(0.0, 1.0)\n",
    "plt.xlabel(r'$\\alpha$')\n",
    "plt.ylabel(r'$W(\\alpha)$ (a.u.)')\n",
    "plt.legend(loc='right')\n",
    "plt.suptitle(f\"AC-ERPA integrand for the H4 chain (6-21G)\")\n",
    "plt.show()"
   ]
  }
 ],
 "metadata": {
  "kernelspec": {
   "display_name": "GNN",
   "language": "python",
   "name": "python3"
  },
  "language_info": {
   "codemirror_mode": {
    "name": "ipython",
    "version": 3
   },
   "file_extension": ".py",
   "mimetype": "text/x-python",
   "name": "python",
   "nbconvert_exporter": "python",
   "pygments_lexer": "ipython3",
   "version": "3.7.12"
  }
 },
 "nbformat": 4,
 "nbformat_minor": 2
}
