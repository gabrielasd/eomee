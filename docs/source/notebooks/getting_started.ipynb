{
 "cells": [
  {
   "cell_type": "markdown",
   "metadata": {},
   "source": [
    "# Excited states"
   ]
  },
  {
   "cell_type": "markdown",
   "metadata": {},
   "source": [
    "EOMEE computes excited states energies though the equations-of-motion formalism. \n",
    "\n",
    "Some example scripts showcasing the supported features can be found inside the project's *examples* folder.\n",
    "These assume the package has been installed following the instructions in :ref:`Installation\n",
    "<installation>`.\n",
    "\n",
    "The electron integrals required as input in bellows's example come from a mean-field calculation using an external package (e.g. PySCF). "
   ]
  },
  {
   "cell_type": "code",
   "execution_count": null,
   "metadata": {},
   "outputs": [],
   "source": [
    "# Import modules\n",
    "import numpy as np\n",
    "\n",
    "from eomee import EOMExc\n",
    "from eomee.tools import (\n",
    "    find_datafiles,\n",
    "    spinize,\n",
    "    hartreefock_rdms,\n",
    ")"
   ]
  },
  {
   "cell_type": "markdown",
   "metadata": {},
   "source": [
    "To get Hellium's excited states do:"
   ]
  },
  {
   "cell_type": "code",
   "execution_count": null,
   "metadata": {},
   "outputs": [],
   "source": [
    "\n",
    "# System He\n",
    "nalpha = 1\n",
    "nbeta = 1\n",
    "# Load one- and two-electron integrals (in molecular orbitals basis)\n",
    "one_mo = np.load(find_datafiles(\"he_ccpvdz_oneint.npy\"))\n",
    "two_mo = np.load(find_datafiles(\"he_ccpvdz_twoint.npy\"))\n",
    "\n",
    "# Make spin-resolved one- and two-particle density matrices for Hartree-Fock slater determinant\n",
    "nbasis = one_mo.shape[0] # Number of molecular orbitals in the basis set\n",
    "one_dm, two_dm = hartreefock_rdms(nbasis, nalpha, nbeta)\n",
    "\n",
    "# Transform electron integrlas from spatial to spin-resolved representation\n",
    "one_mo = spinize(one_mo)\n",
    "two_mo = spinize(two_mo)\n",
    "\n",
    "# Solve particle-hole EOM\n",
    "pheom = EOMExc(one_mo, two_mo, one_dm, two_dm)\n",
    "ev, cv = pheom.solve_dense(orthog=\"asymmetric\")\n",
    "\n",
    "print(\"Number of eigenvalues: \", pheom.neigs)\n",
    "print(\"Left-hand-side matrix: \", pheom.lhs, \"\\n\")\n",
    "print(\"Right-hand-side matrix: \", pheom.rhs, \"\\n\")\n",
    "\n",
    "print(\"Transition energies: \", ev)"
   ]
  }
 ],
 "metadata": {
  "kernelspec": {
   "display_name": "Python 3",
   "language": "python",
   "name": "python3"
  },
  "language_info": {
   "codemirror_mode": {
    "name": "ipython",
    "version": 3
   },
   "file_extension": ".py",
   "mimetype": "text/x-python",
   "name": "python",
   "nbconvert_exporter": "python",
   "pygments_lexer": "ipython3",
   "version": "3.7.10"
  }
 },
 "nbformat": 4,
 "nbformat_minor": 4
}
