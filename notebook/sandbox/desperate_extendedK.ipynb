{
 "cells": [
  {
   "cell_type": "code",
   "execution_count": 14,
   "metadata": {},
   "outputs": [],
   "source": [
    "import sys  \n",
    "sys.path.insert(0, '../')"
   ]
  },
  {
   "cell_type": "code",
   "execution_count": 15,
   "metadata": {},
   "outputs": [],
   "source": [
    "import numpy as np\n",
    "np.set_printoptions(precision=4)\n",
    "\n",
    "from eomee.tools import hartreefock_rdms, spinize, antisymmetrize, pickpositiveeig, from_unrestricted\n",
    "from src.scripts.script_erpa import make_doci_hamiltonian\n",
    "\n",
    "import pyci"
   ]
  },
  {
   "cell_type": "code",
   "execution_count": 16,
   "metadata": {},
   "outputs": [],
   "source": [
    "def solve(A, B, tol=1.e-8):\n",
    "    w, v = np.linalg.eigh(B)\n",
    "    inv_sqrt_w = w ** (-0.5)\n",
    "    inv_sqrt_w[inv_sqrt_w > 1/tol] = 0.\n",
    "    ort_m = np.dot(v, np.dot(np.diag(inv_sqrt_w), v.T))\n",
    "    F_ = np.dot(ort_m.T, np.dot(A, ort_m))\n",
    "    es, cv = np.linalg.eigh(F_)\n",
    "    coeffs = np.dot(ort_m, cv)\n",
    "    return es, coeffs.T\n",
    "\n",
    "\n",
    "wfntype = {'doci': pyci.doci_wfn, 'fci': pyci.fullci_wfn, }"
   ]
  },
  {
   "cell_type": "code",
   "execution_count": 17,
   "metadata": {},
   "outputs": [],
   "source": [
    "test2 = ('be/be_sto-6g', 'STO-6G', (2,2)) # ('Be_0_1/Be_0_1_3-21g', '3-21G', (2,2))#\n",
    "fname, basis, nparts = test2\n",
    "ref = 'doci'\n",
    "\n",
    "dirname = f'../data/interim/integrals/{basis}'\n",
    "h_ij = np.load(f\"{dirname}/{fname}_oneint.npy\")\n",
    "g_ijkl = np.load(f\"{dirname}/{fname}_twoint.npy\")"
   ]
  },
  {
   "cell_type": "code",
   "execution_count": 18,
   "metadata": {},
   "outputs": [],
   "source": [
    "ham = pyci.hamiltonian(0., h_ij, g_ijkl)\n",
    "if ref == 'hf':\n",
    "    wfn = pyci.fullci_wfn(ham.nbasis, *nparts)\n",
    "    wfn.add_hartreefock_det()\n",
    "elif ref in ['doci', 'fci']:\n",
    "    wfn = wfntype[ref](ham.nbasis, *nparts)\n",
    "    wfn.add_all_dets()\n",
    "else:\n",
    "    raise ValueError('wrong wavefunction type.')\n",
    "op = pyci.sparse_op(ham, wfn)\n",
    "ev, cv = op.solve(n=1, tol=1.0e-9)\n",
    "d1, d2 = pyci.compute_rdms(wfn, cv[0])\n",
    "rdm1, rdm2 = pyci.spinize_rdms(d1, d2)"
   ]
  },
  {
   "cell_type": "code",
   "execution_count": 19,
   "metadata": {},
   "outputs": [],
   "source": [
    "if ref in ['hf', 'fci']:\n",
    "    h = spinize(h_ij)\n",
    "    g = spinize(g_ijkl)\n",
    "    v = antisymmetrize(g)\n",
    "if ref == 'doci':\n",
    "    onemo, twomo = make_doci_hamiltonian(h_ij, g_ijkl)\n",
    "    h = spinize(onemo)\n",
    "    g = spinize(twomo)\n",
    "    v = antisymmetrize(g)\n",
    "gamma = rdm1\n",
    "Gamma_ = rdm2"
   ]
  },
  {
   "cell_type": "code",
   "execution_count": 20,
   "metadata": {},
   "outputs": [],
   "source": [
    "# F_pq = \\sum_r h_pr gamma_rq + 2 \\sum_rst <rs||tp> Gamma_rstq\n",
    "F = 0.5 * np.einsum('rstp, rstq-> pq', v, Gamma_)\n",
    "F += np.dot(h, gamma)"
   ]
  },
  {
   "cell_type": "code",
   "execution_count": 21,
   "metadata": {},
   "outputs": [
    {
     "name": "stdout",
     "output_type": "stream",
     "text": [
      "[0.3045 0.3045 0.4482 0.4482 0.4482 0.4482 0.4482 0.4482 4.5406 4.5406]\n"
     ]
    }
   ],
   "source": [
    "ip, cs = solve(-F, gamma) # \n",
    "pw, pcs, _ = pickpositiveeig(ip, cs, tol=1.e-5)\n",
    "print(ip)"
   ]
  },
  {
   "cell_type": "code",
   "execution_count": 22,
   "metadata": {},
   "outputs": [
    {
     "name": "stdout",
     "output_type": "stream",
     "text": [
      "[1. 1. 1. 1. 1. 1. 1. 1. 1. 1.]\n"
     ]
    }
   ],
   "source": [
    "metric = gamma\n",
    "ovlp = np.dot(pcs, np.dot(metric, pcs.T))\n",
    "\n",
    "# print('Diagonal elements of overlap matrix\\n', np.diag(ovlp))\n",
    "print(np.diag(ovlp))"
   ]
  },
  {
   "cell_type": "code",
   "execution_count": 23,
   "metadata": {},
   "outputs": [
    {
     "name": "stdout",
     "output_type": "stream",
     "text": [
      "4.000000000000001\n"
     ]
    }
   ],
   "source": [
    "def reconstruct_dm1(coeffs, metric):\n",
    "    tdms = np.einsum('nj,ij->ni', coeffs, metric)\n",
    "    # print(tdms)\n",
    "    gamma = np.zeros_like(metric)\n",
    "    for tdm in tdms:\n",
    "        gamma += np.einsum('p,q->pq', tdm, tdm)\n",
    "    return gamma\n",
    "\n",
    "new_gamma = reconstruct_dm1(pcs, metric)\n",
    "print(np.trace(new_gamma))"
   ]
  },
  {
   "cell_type": "code",
   "execution_count": 24,
   "metadata": {},
   "outputs": [],
   "source": [
    "k = h_ij.shape[0]\n",
    "assert np.allclose(new_gamma[:k, :k], new_gamma[k:, k:])"
   ]
  },
  {
   "cell_type": "code",
   "execution_count": 25,
   "metadata": {},
   "outputs": [],
   "source": [
    "assert np.allclose(F, F.T)\n",
    "# n = h.shape[0]\n",
    "# matrix = h @ gamma\n",
    "# # assert np.allclose(matrix, matrix.T)\n",
    "# print(matrix[:k,:k])"
   ]
  }
 ],
 "metadata": {
  "kernelspec": {
   "display_name": "Python 3.7.12 ('qcdevs')",
   "language": "python",
   "name": "python3"
  },
  "language_info": {
   "codemirror_mode": {
    "name": "ipython",
    "version": 3
   },
   "file_extension": ".py",
   "mimetype": "text/x-python",
   "name": "python",
   "nbconvert_exporter": "python",
   "pygments_lexer": "ipython3",
   "version": "3.7.12"
  },
  "orig_nbformat": 4,
  "vscode": {
   "interpreter": {
    "hash": "4846203d052f4918654383d2fa4dc83e5f0e073317ccb4eea0fa3b82d0bd9d45"
   }
  }
 },
 "nbformat": 4,
 "nbformat_minor": 2
}
