{
 "cells": [
  {
   "cell_type": "markdown",
   "metadata": {},
   "source": [
    "### ERPA"
   ]
  },
  {
   "cell_type": "markdown",
   "metadata": {},
   "source": [
    "hole-hole\n",
    "\n",
    "$|\\Psi_{\\lambda}> = \\sum_{pq} c_{pq,\\lambda} a_q a_p$\n",
    "\n",
    "GEVP to be solved\n",
    "\n",
    "$\\sum_{pq}c_{pq} <\\Psi|[a^\\dagger_r a^\\dagger_s,[H,a_q a_p]]|\\Psi> = \\Delta E_{\\lambda} \\sum_{pq}c_{pq} <\\Psi|[a^\\dagger_r a^\\dagger_s,a_q a_p]|\\Psi>$\n",
    "\n",
    "$A_{rs,pq} = <\\Psi|[a^\\dagger_r a^\\dagger_s,[H,a_q a_p]]|\\Psi>$\n",
    "\n",
    "$M_{rs,pq} = <\\Psi|[a^\\dagger_r a^\\dagger_s, a_q a_p]|\\Psi>$\n",
    "\n",
    "Overlap\n",
    "\n",
    "$M_{rs,pq} = <\\Psi|a^\\dagger_r a^\\dagger_s a_q a_p|\\Psi>$\n",
    "\n",
    "$C^T_{rs} M_{rs,pq} C_{pq} =? I$\n",
    "\n",
    "\n"
   ]
  },
  {
   "cell_type": "code",
   "execution_count": 1,
   "metadata": {},
   "outputs": [],
   "source": [
    "import sys  \n",
    "sys.path.insert(0, '../')"
   ]
  },
  {
   "cell_type": "code",
   "execution_count": 2,
   "metadata": {},
   "outputs": [],
   "source": [
    "# Import modules\n",
    "from src.scripts.script_erpa import run_eom, overlap\n",
    "from src.scripts.script_erpa import brute_hherpa_lhs, wrap_pyci\n",
    "# from src.scripts.tools_erpa import solve_dense, solve_lowdin\n",
    "from eomee.solver import nonsymmetric, lowdin, lowdin_img\n",
    "from eomee.tools import pickpositiveeig, spinize, symmetrize, antisymmetrize\n",
    "\n",
    "import pyci\n",
    "\n",
    "import numpy as np"
   ]
  },
  {
   "cell_type": "markdown",
   "metadata": {},
   "source": [
    "Define test cases/systems"
   ]
  },
  {
   "cell_type": "code",
   "execution_count": 3,
   "metadata": {},
   "outputs": [],
   "source": [
    "operator = 'hh'\n",
    "test1 = ('Be_0_1/Be_0_1_3-21g', '3-21G')\n",
    "test2 = ('be/be_sto-6g', 'STO-6G')\n",
    "test3 = ('h2/h2_3-21g', '3-21G')\n",
    "test4 = ('h2/h2_sto-6g', 'STO-6G')\n",
    "test5 = ('HHHH_8_sp/HHHH_8_sp_sto-6g', 'STO-6G')\n",
    "fname, basis = test1\n",
    "nparts = (2,2)\n",
    "\n",
    "dirname = f'../data/interim/integrals/{basis}'\n",
    "h_ij = np.load(f\"{dirname}/{fname}_oneint.npy\")\n",
    "g_ijkl = np.load(f\"{dirname}/{fname}_twoint.npy\")"
   ]
  },
  {
   "cell_type": "code",
   "execution_count": 4,
   "metadata": {},
   "outputs": [],
   "source": [
    "### Get DOCI RDMs for ERPA\n",
    "wfn_type = 'fci'\n",
    "out = wrap_pyci(nparts, 0., h_ij, g_ijkl, wfn_type)\n",
    "dm1, dm2 = (out['dm1'], out['dm2'])"
   ]
  },
  {
   "cell_type": "code",
   "execution_count": 5,
   "metadata": {},
   "outputs": [],
   "source": [
    "# Solve the GEVP for hole-hole operator\n",
    "gevp = run_eom(operator, nparts, h_ij, g_ijkl, one_dm=dm1, two_dm=dm2, restricted=True, tol=1.0e-7, orthog=\"nonsymm\")\n",
    "v = spinize(g_ijkl)\n",
    "b_lhs = brute_hherpa_lhs(gevp['h'], v, gevp['dm1'], gevp['dm2'])"
   ]
  },
  {
   "cell_type": "code",
   "execution_count": 6,
   "metadata": {},
   "outputs": [],
   "source": [
    "# w, cv = solve_dense(b_lhs, gevp['gevp'].rhs, tol=1.0e-7, orthog=\"asymmetric\")\n",
    "# ev, cv = solve_lowdin(b_lhs, gevp['gevp'].rhs, tol=1.0e-7) # OK\n",
    "w, cv = nonsymmetric(b_lhs, gevp['gevp'].rhs,  tol=1.0e-7)\n",
    "# w, cv = lowdin_img(b_lhs, gevp['gevp'].rhs,  tol=1.0e-7)"
   ]
  },
  {
   "cell_type": "code",
   "execution_count": 7,
   "metadata": {},
   "outputs": [],
   "source": [
    "# Get the left- and right-hand side matrices for further manipulations bellow\n",
    "n = gevp['gevp'].n\n",
    "k = h_ij.shape[0]\n",
    "lhs = b_lhs #gevp['gevp'].lhs\n",
    "rhs = gevp['gevp'].rhs"
   ]
  },
  {
   "cell_type": "markdown",
   "metadata": {},
   "source": [
    "Not really relevant to this notebook: Just checking that the RHS and LHS have the expected symmetries"
   ]
  },
  {
   "cell_type": "markdown",
   "metadata": {},
   "source": [
    "Checking overlap matrix for hh-RPA/hh-ERPA"
   ]
  },
  {
   "cell_type": "code",
   "execution_count": 8,
   "metadata": {},
   "outputs": [
    {
     "name": "stdout",
     "output_type": "stream",
     "text": [
      "Diagonal elements of overlap matrix\n",
      " [1.72325384 0.0018542  0.00183217 0.0018542  0.0018542 ]\n"
     ]
    }
   ],
   "source": [
    "# States from positive side of spectrum\n",
    "# pw, pcv, _ = pickpositiveeig(gevp['w'], gevp['cv'], tol=1.e-2)\n",
    "pw, pcv, _ = pickpositiveeig(w, cv, tol=1.e-2)\n",
    "\n",
    "# c^*_pq c_rs <|p^+ q^+ s r |>\n",
    "metric = overlap(operator, gevp['dm1'], gevp['dm2'])\n",
    "ovlp_ = np.dot(pcv, np.dot(metric, pcv.T))  # c(M,1).T * S(M,M) * c(M,1)\n",
    "\n",
    "print('Diagonal elements of overlap matrix\\n', np.diag(ovlp_)[:5])"
   ]
  },
  {
   "cell_type": "code",
   "execution_count": 9,
   "metadata": {},
   "outputs": [
    {
     "name": "stdout",
     "output_type": "stream",
     "text": [
      "Double IP\n",
      " [1.03633717 5.43314265 5.43314265 5.43314265 5.49711531 5.63819045\n",
      " 5.63819045 5.63819045 5.63819045 5.63819045]\n"
     ]
    }
   ],
   "source": [
    "print('Double IP\\n', np.sort(pw)[:10])"
   ]
  },
  {
   "cell_type": "code",
   "execution_count": 10,
   "metadata": {},
   "outputs": [
    {
     "name": "stdout",
     "output_type": "stream",
     "text": [
      "2-RDm normalization condition\n",
      " 3.239116572659635 12\n"
     ]
    }
   ],
   "source": [
    "# Reconstruct 2-RDM from hh-TDMs and check trace\n",
    "\n",
    "cv_mrs = pcv.reshape(pcv.shape[0], n, n)\n",
    "tdms = np.einsum(\"mrs,pqsr->mpq\", cv_mrs, gevp['gevp'].rhs.reshape(n,n,n,n)) #gevp['dm2']\n",
    "tv = np.zeros_like(gevp['dm2']) #dm2\n",
    "for rdm in tdms:\n",
    "    tv += np.einsum(\"pq,rs->pqrs\", rdm, rdm, optimize=True)\n",
    "new_rdm2 =  tv/2\n",
    "\n",
    "trdm2 = np.einsum(\"pjqj\", new_rdm2)\n",
    "print('2-RDm normalization condition\\n', np.einsum(\"ijij\", new_rdm2), (sum(nparts) * (sum(nparts) - 1)))"
   ]
  },
  {
   "cell_type": "code",
   "execution_count": 11,
   "metadata": {},
   "outputs": [],
   "source": [
    "# print(np.diag(trdm2[:k,:k]))\n",
    "# print()\n",
    "# print(np.diag(trdm2[k:,k:]))\n",
    "\n",
    "# assert np.allclose(trdm2[:k,:k], trdm2[k:,k:])\n",
    "# assert np.allclose(new_rdm2[:k, :k, :k, :k], new_rdm2[k:, k:, k:, k:])"
   ]
  },
  {
   "cell_type": "markdown",
   "metadata": {},
   "source": [
    "### Eliminate $a_q a_p |\\Psi>$ configurations with $p>q$\n",
    "\n",
    "Let\n",
    "\n",
    "$M_{rs,pq}= [a^\\dagger_r a^\\dagger_s,[H, a_q a_p]]$ $\\forall r < s, p < q$"
   ]
  },
  {
   "cell_type": "code",
   "execution_count": 12,
   "metadata": {},
   "outputs": [],
   "source": [
    "# ### Get DOCI RDMs for ERPA\n",
    "# pyci_dms = pyci_seniorityzero(nparts, 0., h_ij, g_ijkl)\n",
    "# dm1 = pyci_dms['dm1']\n",
    "# dm2 = pyci_dms['dm2']\n",
    "\n",
    "# Get GEVP for hole-hole operator\n",
    "# gevp2 = run_eom(operator, nparts, h_ij, g_ijkl, one_dm=gevp['dm1'], two_dm=gevp['dm2'], restricted=True, tol=1.0e-7, orthog=\"asymmetric\")"
   ]
  },
  {
   "cell_type": "code",
   "execution_count": 13,
   "metadata": {},
   "outputs": [],
   "source": [
    "# Redefining matrices\n",
    "n_pq = n*(n-1)//2\n",
    "A = np.zeros((n_pq, n_pq))\n",
    "M = np.zeros((n_pq, n_pq))\n",
    "\n",
    "configs = []\n",
    "for i in range(n):\n",
    "    for j in range(i+1,n):\n",
    "        ij = n*i + j\n",
    "        configs.append(ij)\n",
    "\n",
    "for i, rs in enumerate(configs):\n",
    "    for j, pq in enumerate(configs):\n",
    "        A[i,j] = b_lhs[rs,pq]   #gevp2['gevp'].lhs[rs,pq]\n",
    "        M[i,j] = gevp['gevp'].rhs[rs,pq]\n"
   ]
  },
  {
   "cell_type": "code",
   "execution_count": 14,
   "metadata": {},
   "outputs": [],
   "source": [
    "# assert np.allclose(A, A.T)\n",
    "assert np.allclose(M, M.T)"
   ]
  },
  {
   "cell_type": "code",
   "execution_count": 15,
   "metadata": {},
   "outputs": [],
   "source": [
    "# # Find indices of off diagonal elements\n",
    "# arr = A\n",
    "# indices = (A.shape[0], A.shape[0])\n",
    "# off_diagonal = (arr - np.diag(np.diagonal(arr))).flatten()\n",
    "# off_diagonal[np.abs(off_diagonal)<=1.0e-7] = 0.\n",
    "# off_diagonal = off_diagonal.reshape(indices)\n",
    "# n_off_diagonal = np.count_nonzero(off_diagonal)\n",
    "# print('N off diagonal vals', n_off_diagonal)\n",
    "# out_ind = np.transpose(np.nonzero(off_diagonal))\n",
    "# # print(out_ind)\n",
    "# for i,j in zip(out_ind, off_diagonal[np.nonzero(off_diagonal)]):\n",
    "#     print(i, j)"
   ]
  },
  {
   "cell_type": "code",
   "execution_count": 16,
   "metadata": {},
   "outputs": [],
   "source": [
    "# print(n_pq)\n",
    "# print(len(configs))\n",
    "\n",
    "# es, cs = solve_dense(A, M, tol=1.0e-7, orthog=\"asymmetric\")\n",
    "# es, cs = nonsymmetric(A, M,  tol=1.0e-7)\n",
    "es, cs = lowdin_img(A, M,  tol=1.0e-7)"
   ]
  },
  {
   "cell_type": "code",
   "execution_count": 17,
   "metadata": {},
   "outputs": [],
   "source": [
    "pes, pcs, _ = pickpositiveeig(es, cs, tol=1.e-2)\n",
    "# print(np.sort(pes)[:10])"
   ]
  },
  {
   "cell_type": "code",
   "execution_count": 18,
   "metadata": {},
   "outputs": [
    {
     "name": "stdout",
     "output_type": "stream",
     "text": [
      "Full GEVP     22 \n",
      " [1.03633717 5.43314265 5.43314265 5.43314265 5.49711531]\n",
      "Truncated GEVP     22 \n",
      " [1.34804572 5.43324816 5.43324816 5.43326025 5.49838928]\n"
     ]
    }
   ],
   "source": [
    "# Compare truncated GEVP spectrum to original one\n",
    "print('Full GEVP    ', len(pw), '\\n', np.sort(pw)[:5])\n",
    "print('Truncated GEVP    ', len(pes), '\\n', np.sort(pes)[:5])"
   ]
  },
  {
   "cell_type": "code",
   "execution_count": 19,
   "metadata": {},
   "outputs": [
    {
     "name": "stdout",
     "output_type": "stream",
     "text": [
      "Diagonal elements of overlap matrix\n",
      " [0.87151049 0.99998371 0.99998371 0.89718377 0.99434839]\n"
     ]
    }
   ],
   "source": [
    "# Check overlap: c^*_rs c_pq <|r^+ s^+ q p |>\n",
    "I = np.eye(es.shape[0])\n",
    "\n",
    "metric = np.zeros((n_pq, n_pq))\n",
    "P_matrix = gevp['gevp'].rhs # gevp['dm2'].reshape(n**2,n**2) #\n",
    "for i, rs in enumerate(configs):\n",
    "    for j, pq in enumerate(configs):\n",
    "        metric[i,j] = P_matrix[rs,pq]\n",
    "\n",
    "\n",
    "# print(metric.shape)\n",
    "# print(pcs.shape)\n",
    "ovlp_ = np.dot(pcs, np.dot(metric, pcs.T))  # c(M,1).T * S(M,M) * c(M,1)\n",
    "\n",
    "\n",
    "# print(ovlp_)\n",
    "print('Diagonal elements of overlap matrix\\n', np.diag(ovlp_)[:5])\n",
    "\n",
    "# # Find off diagonal elements indices\n",
    "# arr = ovlp_\n",
    "# indices = (ovlp_.shape[0], ovlp_.shape[0])\n",
    "# off_diagonal = (arr - np.diag(np.diagonal(arr))).flatten()\n",
    "# off_diagonal[np.abs(off_diagonal)<=1.0e-7] = 0.\n",
    "# off_diagonal = off_diagonal.reshape(indices)\n",
    "# # n_off_diagonal = np.count_nonzero(off_diagonal)\n",
    "# # print('N off diagonal vals', n_off_diagonal)\n",
    "# out_ind = np.transpose(np.nonzero(off_diagonal))\n",
    "# # print(out_ind)\n",
    "# for i,j in zip(out_ind, off_diagonal[np.nonzero(off_diagonal)]):\n",
    "#     print(i, j)"
   ]
  },
  {
   "cell_type": "markdown",
   "metadata": {},
   "source": [
    "Considerations when reconstructed the 2-RDM from the truncated GEVP solutions:\n",
    "\n",
    "$\\Gamma_{pq,rs} = <\\Psi|a^\\dagger_p a^\\dagger_q a_s a_r|\\Psi>$\n",
    "\n",
    "Elements of symmetry:\n",
    "\n",
    "$\\Gamma_{pq,rs} = \\Gamma_{qp,sr} = \\Gamma_{rs,pq}  = \\Gamma_{sr,qp}$\n",
    "\n",
    "$\\Gamma_{pq,rs} = -\\Gamma_{pq,sr} = -\\Gamma_{qp,rs}$\n",
    "\n",
    "symmetry for spin-components:\n",
    "\n",
    "$\\Gamma^{aaaa}_{pq,rs} = \\Gamma^{aaaa}_{qp,sr} = \\Gamma^{aaaa}_{rs,pq}  = \\Gamma^{aaaa}_{sr,qp}$\n",
    "\n",
    "$\\Gamma^{aaaa}_{pq,rs} = -\\Gamma^{aaaa}_{pq,sr} = -\\Gamma^{aaaa}_{qp,rs}$\n",
    "\n",
    "$\\Gamma^{abab}_{pq,rs} = \\Gamma^{abab}_{rs,pq}$\n",
    "\n",
    "$\\Gamma^{abab}_{pq,rs} = \\Gamma^{baba}_{qp,sr}$\n",
    "\n",
    "ERPA $\\Gamma$:\n",
    "\n",
    "$\\Gamma_{pq,rs} = <\\Psi|a^\\dagger_p a^\\dagger_q a_s a_r|\\Psi>\\\\ = \\sum_n <\\Psi|a^\\dagger_p a^\\dagger_q |\\Psi^{N-2}_n><\\Psi^{N-2}_n| a_s a_r|\\Psi>\\\\ = \\sum_n \\gamma_{pq;n} \\gamma_{rs;n}$\n",
    "\n",
    "where $\\gamma_{pq;n}$ is a transition density matrix element:\n",
    "\n",
    "$\\gamma_{pq;n} = <\\Psi|a^\\dagger_p a^\\dagger_q |\\Psi^{N-2}_n>\\\\ \\approx \\sum_{ij} c_{ij;n} <\\Psi|a^\\dagger_p a^\\dagger_q a_j a_i|\\Psi>\\\\\n",
    "= \\sum_{ij} c_{ij;n} M_{pq,ij}$"
   ]
  },
  {
   "cell_type": "markdown",
   "metadata": {},
   "source": [
    "Since only the configuration with $p<q$ are considered I'm directly evaluating the following elements of Gamma:\n",
    "\n",
    "$\\Gamma_{p<q,r<s} = \\sum_n \\gamma_{p<q;n} \\gamma_{r<s;n}$\n",
    "\n",
    "but need to fill the remaining term considering the symmetry elements above.\n",
    "\n",
    "When truncating the configuration space I used the following convention:\n",
    "\n",
    "Linearize pair of indexes (p, q) as:\n",
    "\n",
    "$pq = 2k \\times p + q$ $\\forall p < q$\n",
    "\n",
    "by redefining the compound indexes as for example $pq = X$, I can write:\n",
    "\n",
    "$\\Gamma_{pq,rs} = \\Gamma_{X,Y} \\approx \\sum_n \\gamma_{X;n} \\gamma_{Y;n}$ $\\forall p < q, r<s$\n",
    "\n",
    "so that\n",
    "\n",
    "$\\gamma_{pq;n} = <\\Psi|a^\\dagger_p a^\\dagger_q |\\Psi^{N-2}_n>\\\\ \\approx \\sum_{ij} c_{ij;n} <\\Psi|a^\\dagger_p a^\\dagger_q a_j a_i|\\Psi>\\\\\n",
    "= \\sum_{ij} c_{ij;n} M_{pq,ij}\\\\ = \\sum_Y C_{Y;n} M_{XY} = \\gamma_{X;n}$"
   ]
  },
  {
   "cell_type": "code",
   "execution_count": 20,
   "metadata": {},
   "outputs": [],
   "source": [
    "# Verifica: elementos aaaa, bbbb correspondientes de la matriz metrica truncada; \n",
    "# elementos aa, bb correspondientes de la matriz de coefficientes c_iaja ? c_ibjb\n",
    "# elementos aa, bb correspondientes de la matriz de transicion para unestado (o todos)\n",
    "\n",
    "# Reconstruct 2RDM\n",
    "pes, pcs, _ = pickpositiveeig(es, cs, tol=1.e-2)\n",
    "\n",
    "#\n",
    "# gamma_x,n = \\sum_y c_y,n M_xy = tdms_n\n",
    "#\n",
    "tdms = np.einsum(\"ny,xy->nx\", pcs, M)\n",
    "temp = np.zeros_like(gevp['dm2'])#.reshape(n**2, n**2)\n"
   ]
  },
  {
   "cell_type": "code",
   "execution_count": 21,
   "metadata": {},
   "outputs": [
    {
     "name": "stdout",
     "output_type": "stream",
     "text": [
      "2-RDm normalization condition\n",
      " 11.118969636249007 12\n"
     ]
    }
   ],
   "source": [
    "# Fill terms Gamma_pq,rs --> Gamma_x,y\n",
    "# Gamma_x,y is symmetric with Gamma_pq,rs = Gamma_rs,pq\n",
    "temp = np.zeros((n_pq, n_pq))\n",
    "for rdm in tdms:\n",
    "    temp += np.outer(rdm, rdm)\n",
    "# Unfold into 4-index tensor Gamma_p,q,r,s\n",
    "# Fill missing symmetric terms p>q, r>s\n",
    "dm2rpa = np.zeros_like(gevp['dm2'])\n",
    "for x, pq in enumerate(configs):\n",
    "    for y, rs in enumerate(configs):\n",
    "        (p,q) = (pq // n, pq % n)\n",
    "        (r,s) = (rs // n, rs % n)\n",
    "        dm2rpa[p,q,r,s] = temp[x,y]\n",
    "        dm2rpa[q,p,s,r] = temp[x,y]\n",
    "\n",
    "dm2rpa = antisymmetrize(dm2rpa)\n",
    "\n",
    "tr_dm2 = np.einsum(\"pqps->qs\", dm2rpa)\n",
    "print('2-RDm normalization condition\\n', np.einsum(\"ijij\", dm2rpa), (sum(nparts) * (sum(nparts) - 1)))\n",
    "\n",
    "\n",
    "# tv = np.zeros_like(gevp['dm2']).reshape(n**2, n**2)\n",
    "# for rdm in tdms:\n",
    "#     for i, rs in enumerate(configs):\n",
    "#         for j, pq in enumerate(configs):\n",
    "#             tv[rs,pq] += rdm[i] * rdm[j]\n",
    "# #             # (r,s) = (rs//n, rs % n)\n",
    "# #             # (p,q) = (pq//n, pq % n)\n",
    "# #             # if ((r <= k-1) and (s <= k-1)) and ((p <= k-1) and (q <= k-1)):\n",
    "# #             #     print(rdm[i], rdm[j], tv[rs,pq])\n",
    "# #             # # if ((r <= k-1) and (s > k-1)) and ((p <= k-1) and (q > k-1)):\n",
    "# #             # #     print(rdm[i], rdm[j], tv[rs,pq])\n",
    "# #             # # if ((r > k-1) and (s > k-1)) and ((p > k-1) and (q > k-1)):\n",
    "# #             # #     print(rdm[i], rdm[j], tv[rs,pq])\n",
    "# #             # # if ((r > k-1) and (s <= k-1)) and ((p > k-1) and (q <= k-1)):\n",
    "\n",
    "# # OJO missing elementos de simetria\n",
    "# new_dm2 = 2*tv.reshape(n,n,n,n)\n",
    "# # # t_rdm2 = np.einsum(\"pqps\", new_dm2)\n",
    "# # t_rdm2 = np.einsum(\"pqrq->pr\", new_dm2)\n",
    "# print('2-RDm normalization condition\\n', np.einsum(\"ijij\", new_dm2), (sum(nparts) * (sum(nparts) - 1)))"
   ]
  },
  {
   "cell_type": "code",
   "execution_count": 22,
   "metadata": {},
   "outputs": [
    {
     "name": "stdout",
     "output_type": "stream",
     "text": [
      "[2.87249482e+00 2.51037041e+00 5.66770359e-02 5.88788936e-02\n",
      " 4.08485557e-02 6.34635897e-03 5.86877321e-03 5.78823732e-03\n",
      " 2.85398925e-03]\n",
      "\n",
      "[2.87174384e+00 2.51052383e+00 5.74109188e-02 3.70895039e-02\n",
      " 6.12822323e-02 5.07815859e-03 6.96100376e-03 5.90168936e-03\n",
      " 2.85136882e-03]\n"
     ]
    },
    {
     "ename": "AssertionError",
     "evalue": "",
     "output_type": "error",
     "traceback": [
      "\u001b[0;31m---------------------------------------------------------------------------\u001b[0m",
      "\u001b[0;31mAssertionError\u001b[0m                            Traceback (most recent call last)",
      "\u001b[0;32m/tmp/ipykernel_19837/1703384664.py\u001b[0m in \u001b[0;36m<module>\u001b[0;34m\u001b[0m\n\u001b[1;32m      2\u001b[0m \u001b[0mprint\u001b[0m\u001b[0;34m(\u001b[0m\u001b[0;34m)\u001b[0m\u001b[0;34m\u001b[0m\u001b[0;34m\u001b[0m\u001b[0m\n\u001b[1;32m      3\u001b[0m \u001b[0mprint\u001b[0m\u001b[0;34m(\u001b[0m\u001b[0mnp\u001b[0m\u001b[0;34m.\u001b[0m\u001b[0mdiag\u001b[0m\u001b[0;34m(\u001b[0m\u001b[0mtr_dm2\u001b[0m\u001b[0;34m[\u001b[0m\u001b[0mk\u001b[0m\u001b[0;34m:\u001b[0m\u001b[0;34m,\u001b[0m\u001b[0mk\u001b[0m\u001b[0;34m:\u001b[0m\u001b[0;34m]\u001b[0m\u001b[0;34m)\u001b[0m\u001b[0;34m)\u001b[0m\u001b[0;34m\u001b[0m\u001b[0;34m\u001b[0m\u001b[0m\n\u001b[0;32m----> 4\u001b[0;31m \u001b[0;32massert\u001b[0m \u001b[0mnp\u001b[0m\u001b[0;34m.\u001b[0m\u001b[0mallclose\u001b[0m\u001b[0;34m(\u001b[0m\u001b[0mdm2rpa\u001b[0m\u001b[0;34m[\u001b[0m\u001b[0;34m:\u001b[0m\u001b[0mk\u001b[0m\u001b[0;34m,\u001b[0m \u001b[0;34m:\u001b[0m\u001b[0mk\u001b[0m\u001b[0;34m,\u001b[0m \u001b[0;34m:\u001b[0m\u001b[0mk\u001b[0m\u001b[0;34m,\u001b[0m \u001b[0;34m:\u001b[0m\u001b[0mk\u001b[0m\u001b[0;34m]\u001b[0m\u001b[0;34m,\u001b[0m \u001b[0mdm2rpa\u001b[0m\u001b[0;34m[\u001b[0m\u001b[0mk\u001b[0m\u001b[0;34m:\u001b[0m\u001b[0;34m,\u001b[0m \u001b[0mk\u001b[0m\u001b[0;34m:\u001b[0m\u001b[0;34m,\u001b[0m \u001b[0mk\u001b[0m\u001b[0;34m:\u001b[0m\u001b[0;34m,\u001b[0m \u001b[0mk\u001b[0m\u001b[0;34m:\u001b[0m\u001b[0;34m]\u001b[0m\u001b[0;34m)\u001b[0m\u001b[0;34m\u001b[0m\u001b[0;34m\u001b[0m\u001b[0m\n\u001b[0m",
      "\u001b[0;31mAssertionError\u001b[0m: "
     ]
    }
   ],
   "source": [
    "print(np.diag(tr_dm2[:k,:k]))\n",
    "print()\n",
    "print(np.diag(tr_dm2[k:,k:]))\n",
    "assert np.allclose(dm2rpa[:k, :k, :k, :k], dm2rpa[k:, k:, k:, k:])"
   ]
  },
  {
   "cell_type": "code",
   "execution_count": null,
   "metadata": {},
   "outputs": [],
   "source": [
    "# for i, rs in enumerate(configs):\n",
    "#     for j, pq in enumerate(configs):\n",
    "#         (r,s) = (rs//n, rs % n)\n",
    "#         (p,q) = (pq//n, pq % n)\n",
    "#         # if ((r <= k-1) and (s <= k-1)) and ((p <= k-1) and (q <= k-1)):\n",
    "#         # if ((r <= k-1) and (s > k-1)) and ((p <= k-1) and (q > k-1)):\n",
    "#         # if ((r > k-1) and (s > k-1)) and ((p > k-1) and (q > k-1)):\n",
    "#         if ((r > k-1) and (s <= k-1)) and ((p > k-1) and (q <= k-1)):\n",
    "#             print(r,s,p,q, M[i,j], gevp2['gevp'].rhs[rs,pq])"
   ]
  },
  {
   "cell_type": "markdown",
   "metadata": {},
   "source": []
  },
  {
   "cell_type": "markdown",
   "metadata": {},
   "source": [
    "Solve hh-ERPA eliminatig the elements with index ($p \\bar{p}, q \\bar{q}$) from the left and RHS of the GEVP"
   ]
  },
  {
   "cell_type": "code",
   "execution_count": null,
   "metadata": {},
   "outputs": [],
   "source": [
    "# # Get GEVP for hole-hole operator\n",
    "# gevp3 = run_eom(nparts, h_ij, g_ijkl, one_dm=None, two_dm=None, operator=op, restricted=True, tol=1.0e-7, orthog=\"asymmetric\")\n",
    "\n",
    "\n",
    "# # Redefining matrices\n",
    "# n_pq = n**2 - n\n",
    "# A = np.zeros((n_pq, n_pq))\n",
    "# M = np.zeros((n_pq, n_pq))\n",
    "\n",
    "# configs = []\n",
    "# for p in range(n):\n",
    "#     for q in range(p+1,n):\n",
    "#         if q == p + k:\n",
    "#             continue\n",
    "#         pq = n*p + q\n",
    "#         configs.append(pq)\n",
    "\n",
    "# for i, rs in enumerate(configs):\n",
    "#     for j, pq in enumerate(configs):\n",
    "#         A[i,j] = gevp3['gevp'].lhs[rs,pq]\n",
    "#         M[i,j] = gevp3['gevp'].rhs[rs,pq]\n",
    "\n",
    "# # Evaluate new 2-RDM and check trace\n",
    "# ev, cv = solve_dense(A, M, tol=1.0e-7, orthog=\"asymmetric\")\n",
    "\n",
    "# pw, pc, _ = pickpositiveeig(ev, cv, tol=1.e-2)\n",
    "# print('Double IP\\n', np.sort(pw))"
   ]
  },
  {
   "cell_type": "code",
   "execution_count": null,
   "metadata": {},
   "outputs": [],
   "source": [
    "# # Check overlap: c^*_rs c_pq <|r^+ s^+ q p |>\n",
    "# I = np.eye(n_pq)\n",
    "\n",
    "# metric = np.zeros((n_pq, n_pq))\n",
    "# P_matrix = gevp3['dm2'].reshape(n**2,n**2)\n",
    "# for i, rs in enumerate(configs):\n",
    "#     for j, pq in enumerate(configs):\n",
    "#         metric[i,j] = P_matrix[rs,pq]\n",
    "\n",
    "# # ovlp = np.dot(cv, np.dot(metric, cv.T))  # c(M,1).T * S(M,M) * c(M,1)\n",
    "# ovlp_ = np.dot(pc, np.dot(metric, pc.T))\n",
    "\n",
    "# # print(ovlp_)\n",
    "# print('Diagonal elements of overlap matrix\\n', np.diag(ovlp_))"
   ]
  },
  {
   "cell_type": "code",
   "execution_count": null,
   "metadata": {},
   "outputs": [],
   "source": [
    "# tdms = np.einsum(\"mj,ij->mi\", pc, M)\n",
    "# tv = np.zeros_like(gevp3['dm2']).reshape(n**2, n**2)\n",
    "\n",
    "# for rdm in tdms:\n",
    "#     for i, rs in enumerate(configs):\n",
    "#         for j, pq in enumerate(configs):\n",
    "#             tv[rs,pq] += rdm[i] * rdm[j]\n",
    "\n",
    "     \n",
    "# # OJO missing elementos de simetria\n",
    "# new_dm2 = tv.reshape(n,n,n,n)\n",
    "# tr_dm2 = np.einsum(\"pqrq->pr\", new_dm2)\n",
    "\n",
    "# print('2-RDm normalization condition\\n', np.einsum(\"ijij\", new_dm2), (sum(nparts) * (sum(nparts) - 1)))"
   ]
  },
  {
   "cell_type": "code",
   "execution_count": null,
   "metadata": {},
   "outputs": [],
   "source": [
    "# print(np.diag(tr_dm2[:k,:k]))\n",
    "# print()\n",
    "# print(np.diag(tr_dm2[k:,k:]))\n",
    "# assert np.allclose(new_dm2[:k, :k, :k, :k], new_dm2[k:, k:, k:, k:])"
   ]
  },
  {
   "cell_type": "code",
   "execution_count": null,
   "metadata": {},
   "outputs": [],
   "source": [
    "# assert np.allclose(new_dm2, new_dm2.transpose((1,0,3,2))) # ijkl, jilk\n",
    "assert np.allclose(new_dm2, new_dm2.transpose((2,3,0,1))) # ijkl, klij\n",
    "# assert np.allclose(new_dm2, new_dm2.transpose((3,2,1,0))) # ijkl, jilk\n",
    "# assert np.allclose(new_dm2, -new_dm2.transpose((0,1,3,2))) # ijkl, ijlk\n",
    "# assert np.allclose(new_dm2, -new_dm2.transpose((1,0,2,3))) # ijkl, ijlk\n"
   ]
  },
  {
   "cell_type": "markdown",
   "metadata": {},
   "source": [
    "<!-- DONE: Que problema hay con la simetria del GEVP que no da como se espera. Como ultimo recurso revisar la ecuacion hh implementada :(\n",
    "    Luego de implementar literalmente las ecuaciones del LHS de hh-ERPA, se recupera la simetria esperada de la matriz (salvo con la funcion DOCI enla que la permutacion klji != jikl por alguna razon). Sin embargo esto no cambia el resultado de los overlaps o de la normalizacion incorrecta de la 2RDM reconstruida.\n",
    "\n",
    "\n",
    "Resultados hasta ahora con el procedimiento de resolver hh-GEVP solo con estados p>q (que denominare GEVP truncado):\n",
    "Para HF referencia: obtengo el mismo numero de mismos autovalores positivos que en el GEVP original con un factor de 1/2 de diferencia.\n",
    "De manera semejante los autovectores son correspondientes y nuevamente tienen un factor de 1/2\n",
    "La traza de la 2rdm reconstruida pierde la submatriz con componente betabeta, en tanto que la componente alphaalpha es exactamente 1/2 de la que se obtiene con el procedimiento para el GEVP original. Consecuentemente la normalizacion de la 2rdm reconstruida es tiene un factor de 1/2.\n",
    "Para DOCI: hay el mismo numero de soluciones positivas que en GEVP, pero los valores no son iguales, en el caso de Be los 5 autovalores de menor energia se asemejan a las soluciones de HF, y el resto paresen ser trash values probablemente por singularidades en las matrices. Y comparando con las soluciones positivas del GEVP original, me parece que en este igualmente hay varios valores espureos mezcaldos con el que debiera ser el espectro real.\n",
    "No recuerdo bien como se comparan los autovectores en este caso. No creo que hubiera la correspondencia que en HF con el factor de 1/2 como diferencia. Lo que si sucede en ambos casos es que la matriz de overlap sigue sin ser diagonal. Me parece que tengo que aplicar un procedimiento de ortogonalizacion intemedio o de normalizacion en el que solo mantenga los terminos del autovector que corresponden a configuraciones hh.\n",
    "La normalizacion de la 2rdm reconstruida es tiene un factor de 1/2 respecto al resultado que se obtiene con GEVP original, y no se resultve el problema de que no es la normalizacion correcta. Con respecto a la componente bb de la traza de la 2rdm reconstruida en este caso, no se pierde totalmente como pasa con HF, pero es bien sparse, en tanto que la diagonal de la componente alphaalpha es aprox 1/2 de la diagonal de la que se obtiene con el procedimiento para el GEVP original.\n",
    "\n",
    "A verificar:\n",
    "\n",
    "Por que pierdo componente beta cuando recostruyo la 2rdm con este procedimiento de tomar solo estados p>q si en todo momento parece que tengo componentes aa, ab y ba en las matrices y vectores.\n",
    "\n",
    "Ver que da este termino: tv[rs,pq] += rdm[i] * rdm[j], para cada estado independientemente antes de que se sume sobre todos ellos. Esto pudiera explicar por que cuando se usa DOCI referencia la traza de 2rdm recosntruida tiene submatriz alfa != de la beta para hh-ERPA. puede que al sumar los terminos tv[rs,pq] correspondientes a cada estado, haya cambios de signo que terminen causando esta diferencia entre los sectores aa y bb. Comparar con el caso en que HF es la referencia. -->"
   ]
  },
  {
   "cell_type": "markdown",
   "metadata": {},
   "source": [
    "Check metric matrices of hh-ERPA with and without commutator on the RHS:\n",
    "\n",
    "$P-matrix = <\\Psi|p^\\dagger q^\\dagger s r|\\Psi>$\n",
    "\n",
    "$P-matrix -> Q$\n",
    "\n",
    "$P-matrix -> G$\n",
    "\n",
    "Test normalization conditions and symmetry"
   ]
  },
  {
   "cell_type": "code",
   "execution_count": null,
   "metadata": {},
   "outputs": [],
   "source": [
    "from eomee.tools import two_positivity_condition, matrix_P_to_matrix"
   ]
  },
  {
   "cell_type": "code",
   "execution_count": null,
   "metadata": {},
   "outputs": [],
   "source": [
    "hh2rpa = run_eom(nparts, h_ij, g_ijkl, one_dm=None, two_dm=None, operator='hh2', restricted=True, tol=1.0e-7, orthog=\"asymmetric\")"
   ]
  },
  {
   "cell_type": "code",
   "execution_count": null,
   "metadata": {},
   "outputs": [],
   "source": [
    "# hh2rhs = hh2rpa['gevp'].rhs\n",
    "temp = hh2rpa['dm2']\n",
    "answer = two_positivity_condition('p', k, hh2rpa['dm1'], hh2rpa['dm2'])\n",
    "assert np.allclose(temp, answer)\n",
    "print(np.einsum('abab', temp), np.einsum('abab', answer))"
   ]
  },
  {
   "cell_type": "code",
   "execution_count": null,
   "metadata": {},
   "outputs": [],
   "source": [
    "# RHS: <|p+ q+ s r|> - <|s r p+ q+|>\n",
    "hhrpa = run_eom(nparts, h_ij, g_ijkl, one_dm=None, two_dm=None, operator='hh', restricted=True, tol=1.0e-7, orthog=\"asymmetric\")\n",
    "hhrhs = hhrpa['gevp'].rhs\n",
    "\n",
    "pmat = two_positivity_condition('p', k, hhrpa['dm1'], hhrpa['dm2'])\n",
    "qmat = two_positivity_condition('q', k, hhrpa['dm1'], hhrpa['dm2'])\n",
    "answer = pmat - qmat  #.transpose((3,2,1,0)) #srqp ->\n",
    "\n",
    "assert np.allclose(hhrhs.reshape((n,n,n,n)), answer)"
   ]
  },
  {
   "cell_type": "code",
   "execution_count": null,
   "metadata": {},
   "outputs": [],
   "source": [
    "# temp = ph2rhs.reshape((n,n,n,n))\n",
    "# answer = two_positivity_condition('g', k, hh2rpa['dm1'], hh2rpa['dm2'])\n",
    "# assert np.allclose(temp, answer)\n",
    "# print(np.einsum('abab', temp), np.einsum('abab', answer), 4*(n-4+1))\n",
    "# assert np.allclose(temp, temp.transpose((2,3,0,1)))\n",
    "# assert np.allclose(answer, answer.transpose((2,3,0,1)))\n",
    "\n",
    "\n",
    "# temp = pp2rhs.reshape((n,n,n,n))\n",
    "# answer = two_positivity_condition('q', k, pp2rpa['dm1'], pp2rpa['dm2'])\n",
    "# print(np.einsum('abab', temp), np.einsum('abab', answer), (n-4)*(n-4-1))\n",
    "# assert np.allclose(temp, answer)\n",
    "\n",
    "\n",
    "# # RHS: <|p+ q s+ r|> - <|s+ r p+ q|>\n",
    "# phrpa = run_eom(nparts, h_ij, g_ijkl, one_dm=None, two_dm=None, operator='ph', restricted=True, tol=1.0e-7, orthog=\"asymmetric\")\n",
    "# phrhs = phrpa['gevp'].rhs\n",
    "# interm = two_positivity_condition('g', k, ph2rpa['dm1'], ph2rpa['dm2'])\n",
    "# answer = interm - interm.transpose((3,2,1,0))\n",
    "\n",
    "# assert np.allclose(phrhs.reshape((n,n,n,n)), answer)\n",
    "\n",
    "\n",
    "# # RHS: <|p q s+ r+|> - <|s+ r+ p q|>\n",
    "# pprpa = run_eom(nparts, h_ij, g_ijkl, one_dm=None, two_dm=None, operator='pp', restricted=True, tol=1.0e-7, orthog=\"asymmetric\")\n",
    "# pprhs = pprpa['gevp'].rhs\n",
    "# pmat = two_positivity_condition('p', k, pprpa['dm1'], pprpa['dm2'])\n",
    "# qmat = two_positivity_condition('q', k, pprpa['dm1'], pprpa['dm2'])\n",
    "# answer = qmat - pmat.transpose((3,2,1,0))\n",
    "\n",
    "# assert np.allclose(pprhs.reshape((n,n,n,n)), answer)"
   ]
  },
  {
   "cell_type": "code",
   "execution_count": null,
   "metadata": {},
   "outputs": [],
   "source": [
    "# # import matplotlib as mpl\n",
    "# # from matplotlib import pyplot\n",
    "# import matplotlib.pyplot as plt\n",
    "\n",
    "# n, bins, patches = plt.hist(ev, density=False, bins=10, color ='blue')"
   ]
  },
  {
   "cell_type": "markdown",
   "metadata": {},
   "source": [
    "# LHS symmetry problem"
   ]
  },
  {
   "cell_type": "code",
   "execution_count": null,
   "metadata": {},
   "outputs": [],
   "source": [
    "from script_erpa import brute_hherpa_lhs\n",
    "\n",
    "b_lhs = brute_hherpa_lhs(gevp['h'], gevp['v'], gevp['dm1'], gevp['dm2'])\n"
   ]
  },
  {
   "cell_type": "code",
   "execution_count": null,
   "metadata": {},
   "outputs": [],
   "source": [
    "# alpha component\n",
    "l_pqrs = b_lhs.reshape(n, n, n, n)\n",
    "lhs_aa = l_pqrs[:k, :k, :k, :k]\n",
    "\n",
    "# alpha beta component\n",
    "lhs_ab = l_pqrs[:k, k:, :k, k:]"
   ]
  },
  {
   "cell_type": "code",
   "execution_count": null,
   "metadata": {},
   "outputs": [],
   "source": [
    "assert np.allclose(l_pqrs, l_pqrs.transpose((2,3,0,1))) # kl ji, ji kl\n",
    "assert np.allclose(l_pqrs, -l_pqrs.transpose((1,0,2,3))) # kl ji, lk ji\n",
    "assert np.allclose(l_pqrs, -l_pqrs.transpose((0,1,3,2))) # kl ji, kl ij\n",
    "assert np.allclose(l_pqrs, l_pqrs.transpose((1,0,3,2))) # kl ji, lk ij\n",
    "assert np.allclose(l_pqrs, l_pqrs.transpose((3,2,1,0))) # kl ji, ji kl"
   ]
  },
  {
   "cell_type": "code",
   "execution_count": null,
   "metadata": {},
   "outputs": [],
   "source": [
    "# Evaluate new 2-RDM and check trace\n",
    "ev, cv = solve_dense(b_lhs, gevp['gevp'].rhs, tol=1.0e-7, orthog=\"asymmetric\")\n",
    "\n",
    "pes, pcv, _ = pickpositiveeig(ev, cv, tol=1.e-2)\n",
    "print(np.sort(pes))\n",
    "\n",
    "cv_mrs = pcv.reshape(pcv.shape[0], n, n)\n",
    "tdms = np.einsum(\"mrs,pqsr->mpq\", cv_mrs, gevp['gevp'].rhs.reshape(n,n,n,n)) #\n",
    "tv = np.zeros_like(gevp['dm2']) #dm2\n",
    "for rdm in tdms:\n",
    "    tv += np.einsum(\"pq,rs->pqrs\", rdm, rdm, optimize=True)\n",
    "new_rdm2 =  tv/2\n",
    "\n",
    "print('2-RDm normalization condition\\n', np.einsum(\"ijij\", new_rdm2), (sum(nparts) * (sum(nparts) - 1)))"
   ]
  },
  {
   "cell_type": "markdown",
   "metadata": {},
   "source": [
    "# Observaciones recordatorio:\n",
    "\n",
    "2 electrones, base minima (1/2 filling)\n",
    "\n",
    "4 electrones base minima (1/2 filling)\n",
    "\n",
    "sistemas 1/2 llenos\n",
    "\n",
    "ref HF: rdm reconstruida normalizacion correcta, sin embargo en sistema de 4 particulas ya la componente alpha y beta de la traza de la nueva 2rdm no son son iguales (esto puede estar causado por el problema de no ortogonalidad de los estados) y al \"corregir\" la simetria de LHS las diferencias se hacen aum mayor. Tambien or alternativamente, es probable que este problema de diferencia entre componente alfa y beta de la traza de la nueva rdm pueda corregirse con el procedimiento en que solo se toman las configuraciones p>q, ya que al generar la nueva 2rdm se pondria `manualmente` los elementos de simetria esperados.\n",
    "\n",
    "ref doci: realmente un desastre... yo esperaba que tener un modelo 1/2 lleno compensara las contribuciones de hh y pp existentes en el problema ERPA, pero no es el caso: para el modelo de 4 electrones la normalizacion de la nueva 2rdm es casi cero! cuando debiera dar 12. \"corregir\" la simetria de LHS nuevamete no resuelve ni la normalizacion, ni la diferencia entre las componentes alfa y beta de que he estado hablando\n",
    "\n",
    "\n",
    "resumiendo elementos sospechosos de pp-ERPA:\n",
    "- permutaciones de simetria incorrectas en LHS\n",
    "- desigualdad de componentes alfa y beta de traza de 2rdm reconstruida a partir de TDMs de hh GEVP\n",
    "- me cuestiono si hay algun efecto de la presencia de terminos no diagonales en la matriz metrica de hh-(e)RPA, aunq en el sistema de 2 electrones con base minima, no hay tales elementos y aun asi da mal para ERPA."
   ]
  }
 ],
 "metadata": {
  "interpreter": {
   "hash": "4846203d052f4918654383d2fa4dc83e5f0e073317ccb4eea0fa3b82d0bd9d45"
  },
  "kernelspec": {
   "display_name": "Python 3.7.12 ('qcdevs')",
   "language": "python",
   "name": "python3"
  },
  "language_info": {
   "codemirror_mode": {
    "name": "ipython",
    "version": 3
   },
   "file_extension": ".py",
   "mimetype": "text/x-python",
   "name": "python",
   "nbconvert_exporter": "python",
   "pygments_lexer": "ipython3",
   "version": "3.7.12"
  }
 },
 "nbformat": 4,
 "nbformat_minor": 4
}
