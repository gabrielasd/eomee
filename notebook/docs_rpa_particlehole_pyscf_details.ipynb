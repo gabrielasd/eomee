{
 "cells": [
  {
   "cell_type": "markdown",
   "metadata": {},
   "source": [
    "### ERPA methods: particle-hola RPA, further implementation details"
   ]
  },
  {
   "cell_type": "markdown",
   "metadata": {},
   "source": [
    "To go with notebook: docs_rpa_particlehole"
   ]
  },
  {
   "cell_type": "markdown",
   "metadata": {},
   "source": [
    "\n",
    "Eqs 7. in [Tahir 2019](https://doi.org/10.1103/PhysRevB.99.195149) defines the RPA correlation energy , $E^{f-phRPA}_c$, as:  \n",
    "$$\n",
    "E^{f-phRPA}_c = \\frac{1}{4}(\\sum_{w>0} w -Tr(A))\n",
    "$$"
   ]
  },
  {
   "cell_type": "markdown",
   "metadata": {},
   "source": [
    "where\n",
    "$$\n",
    "A_{ia,jb}=\\delta_{ij}\\delta_{ab}(\\epsilon_a - \\epsilon_i) + <aj||ib>\n",
    "$$\n",
    "\n",
    "and the RPA equation is:\n",
    "$$\n",
    "\\begin{bmatrix}\n",
    "A & B\\\\\n",
    "B^* & A^*\n",
    "\\end{bmatrix}\n",
    "\\begin{pmatrix}\n",
    "X\\\\\n",
    "Y\n",
    "\\end{pmatrix}\n",
    "= \\omega_n\n",
    "\\begin{bmatrix}\n",
    "1 & 0\\\\\n",
    "0 & -1\n",
    "\\end{bmatrix}\n",
    "\\begin{pmatrix}\n",
    "X\\\\\n",
    "Y\n",
    "\\end{pmatrix}\n",
    "$$"
   ]
  },
  {
   "cell_type": "markdown",
   "metadata": {},
   "source": [
    "[Scuseria et al.](http://aip.scitation.org/doi/10.1063/1.4820557) define instead:\n",
    "$$\n",
    "E^{phRPA}_c = \\frac{1}{2}(\\sum_{w>0} w -Tr(A))\n",
    "$$\n",
    "\n",
    "Therefore, Scuseria's and Tahir's p-h RPA correlation energy differ by a factor of two. "
   ]
  },
  {
   "cell_type": "markdown",
   "metadata": {},
   "source": [
    "# PySCF RPA\n",
    "\n",
    "The key elements terms in the correlation energy equations above $A$ and $\\omega$, are evaluated with PySCF, so I describe bellow how PySCF defines them as this may be one source of discrepancies."
   ]
  },
  {
   "cell_type": "markdown",
   "metadata": {},
   "source": [
    "RPA equation solved by PySCF:\n",
    "\n",
    "$$\n",
    "\\begin{bmatrix}\n",
    "A & B\\\\\n",
    "-B^* & -A^*\n",
    "\\end{bmatrix}\n",
    "\\begin{pmatrix}\n",
    "X\\\\\n",
    "Y\n",
    "\\end{pmatrix}\n",
    "= \\omega_n\n",
    "\\begin{bmatrix}\n",
    "1 & 0\\\\\n",
    "0 & 1\n",
    "\\end{bmatrix}\n",
    "\\begin{pmatrix}\n",
    "X\\\\\n",
    "Y\n",
    "\\end{pmatrix}\n",
    "$$"
   ]
  },
  {
   "cell_type": "markdown",
   "metadata": {},
   "source": [
    "where the matrix $A$ has the following spin structure (same for $B$):\n",
    "\n",
    "$$\n",
    "\\begin{bmatrix}\n",
    "A_{aa,aa} & A_{aa,bb}\\\\\n",
    "A^T_{aa,bb} & A_{bb,bb}\n",
    "\\end{bmatrix}\n",
    "$$\n",
    "(here the subscripts `a` and `b` stand for $\\alpha$ and $\\beta$ spin-orbitals)\n",
    "\n",
    "and each element is evaluated as:\n",
    "$$\n",
    "A_{ia,jb}=\\delta_{ij}\\delta_{ab}(\\epsilon_a - \\epsilon_i) + (ia||bj)\n",
    "$$\n",
    "where the indexes `i,j` correspond to occupied orbitlas and `a,b` to virtuals.\n",
    "\n",
    "(Notice PySCF uses chemist notation for the two-electron integrals while Tahir uses the physicist one; still, the value of corresponding terms will be the same.)\n"
   ]
  },
  {
   "cell_type": "markdown",
   "metadata": {},
   "source": [
    "After getting the necessary inputs from PySCF, I evaluete the ph-RPA correlation energy as:"
   ]
  },
  {
   "cell_type": "code",
   "execution_count": null,
   "metadata": {},
   "outputs": [],
   "source": [
    "def ecorr(w, A_aa, A_bb, factor=None):\n",
    "    \"\"\"Particle-hole RPA correlation energy\n",
    "\n",
    "    E^{f-phRPA}_c = factor*(\\sum_{w>0} w -Tr(A))\n",
    "    \n",
    "    A_{ia,jb}=\\delta_{ij}\\delta_{ab}(\\epsilon_a - \\epsilon_i) + (ia||bj)\n",
    "\n",
    "    Here, A_{aa}=A_{aa,aa} and  A_{bb}=A_{bb,bb}\n",
    "\n",
    "    factor: 1 if None (default), 0.25 if `t` (Thahir's equation), 0.5 if `s` (Scuseria's equation)\n",
    "\n",
    "    \"\"\"\n",
    "    w[w < 0.] = 0.0\n",
    "    ecorr = sum(w.real) - numpy.trace(A_aa) - numpy.trace(A_bb)\n",
    "    if factor is None:\n",
    "        cnt = 1\n",
    "    elif factor == 't':\n",
    "        cnt = 0.25\n",
    "    elif factor == 's':\n",
    "        cnt = 0.5\n",
    "    return cnt * ecorr"
   ]
  }
 ],
 "metadata": {
  "kernelspec": {
   "display_name": "Python 3.8.10 64-bit",
   "language": "python",
   "name": "python3"
  },
  "language_info": {
   "codemirror_mode": {
    "name": "ipython",
    "version": 3
   },
   "file_extension": ".py",
   "mimetype": "text/x-python",
   "name": "python",
   "nbconvert_exporter": "python",
   "pygments_lexer": "ipython3",
   "version": "3.8.10"
  },
  "vscode": {
   "interpreter": {
    "hash": "916dbcbb3f70747c44a77c7bcd40155683ae19c65e1c03b4aa3499c5328201f1"
   }
  }
 },
 "nbformat": 4,
 "nbformat_minor": 4
}
