{
 "cells": [
  {
   "cell_type": "markdown",
   "metadata": {},
   "source": [
    "### ERPA methods"
   ]
  },
  {
   "cell_type": "markdown",
   "metadata": {},
   "source": [
    "Definitions  \n",
    "\n",
    "o: occupied spinorbitlas  \n",
    "\n",
    "v: virtual spinorbitlas"
   ]
  },
  {
   "cell_type": "markdown",
   "metadata": {},
   "source": [
    "The energy of a system can be evaluated as:  \n",
    "$$\n",
    "E[\\gamma, \\Gamma] = \\sum_{pq} h_{pq} \\gamma_{pq} + \\frac{1}{2} \\sum_{pqrs} <pq|rs>\\Gamma_{pqrs} + E_{nuc}\n",
    "$$\n",
    "\n",
    "where the level of electron correlation accounted for depends on the RDMs."
   ]
  },
  {
   "cell_type": "markdown",
   "metadata": {},
   "source": [
    "Starting from a not fully correlated method (or an uncorrelated one, e.g. HF) one can add correlation to the two particle reduced density matrix thorugh particle-hole RPA solutions:\n",
    "\n",
    "\\begin{align*}\n",
    "\\Gamma_{pqrs} &= <| a^{\\dagger}_p a^{\\dagger}_q a_s a_r|> \\\\\n",
    "&= - \\delta_{qr} \\gamma_{ps} + \\gamma_{pr} \\gamma_{qs} + \\sum_{\\lambda \\ne 0} (<|a^{\\dagger}_p a_r|\\Psi_\\lambda><\\Psi_\\lambda|a^{\\dagger}_q a_s|>)\n",
    "\\end{align*}\n",
    "\n",
    "where the particle-hole resolution of the identity is used"
   ]
  },
  {
   "cell_type": "markdown",
   "metadata": {},
   "source": [
    "if $|> \\approx |\\Psi^{HF}_0>$\n",
    "$$\n",
    "\\Gamma^{HF}_{pqrs} = - \\delta_{qr} \\gamma_{ps} + \\gamma_{pr} \\gamma_{qs}\n",
    "$$\n",
    "\n",
    "then:\n",
    "$$\n",
    "E^{HF}[\\gamma, \\Gamma] = \\sum_{pq} h_{pq} \\gamma_{pq} + \\frac{1}{2} \\sum_{pqrs} <pq|rs>\\Gamma^{HF}_{pqrs} + E_{nuc}\n",
    "$$"
   ]
  },
  {
   "cell_type": "markdown",
   "metadata": {},
   "source": [
    "and\n",
    "$$\n",
    "E^{phRPA}[\\gamma, \\Gamma] = E^{HF} + \\frac{1}{2} \\sum_{pqrs} <pq|rs> \\sum_{\\lambda \\ne 0} (<\\Psi^{HF}_0|a^{\\dagger}_p a_r|\\Psi_\\lambda><\\Psi_\\lambda|a^{\\dagger}_q a_s|\\Psi^{HF}_0>)\n",
    "$$"
   ]
  },
  {
   "cell_type": "markdown",
   "metadata": {},
   "source": [
    "the transition density matrix is evaluated from ph-EOM solutions as:\n",
    "$$\n",
    "<|a^{\\dagger}_p a_q|\\Psi_\\lambda> = (<\\Psi_\\lambda|a^{\\dagger}_q a_p|>)^\\dag = <|[a^{\\dagger}_p a_q, \\hat{Q}_\\lambda]|>\n",
    "$$\n",
    "\n",
    "$$\n",
    "\\hat{Q}_\\lambda = \\sum_{ij} c_{ij;\\lambda} a^{\\dagger}_i a_j\n",
    "$$\n",
    "\n",
    "\\begin{align*}\n",
    "<|[a^{\\dagger}_p a_q, \\hat{Q}_\\lambda]|> &\\approx \\sum_{ij} c_{ij;\\lambda} <|[a^{\\dagger}_p a_q, a^{\\dagger}_i a_j]|>\\\\\n",
    "&= \\sum_{ij} c_{ij;\\lambda} (<|a^{\\dagger}_p a_q a^{\\dagger}_i a_j|> - <|a^{\\dagger}_i a_j a^{\\dagger}_p a_q|>)\n",
    "\\end{align*}\n"
   ]
  },
  {
   "cell_type": "markdown",
   "metadata": {},
   "source": [
    "\n",
    "$$\n",
    "<|[a^{\\dagger}_p a_q, \\hat{Q}_\\lambda]|> \\approx \\begin{cases}\n",
    "      \\sum_{ij} c_{ij;\\lambda} <|a^{\\dagger}_p a_q a^{\\dagger}_i a_j|> \\delta_{pj} \\delta_{qi} & \\text{for p,j} \\in o; \\text{for q,i} \\in v\\\\\n",
    "      -\\sum_{ij} c_{ij;\\lambda} <|a^{\\dagger}_i a_j a^{\\dagger}_p a_q |> \\delta_{pj} \\delta_{qi} & \\text{for p,j} \\in v; \\text{for q,i} \\in o \n",
    "     \\end{cases}\n",
    "$$"
   ]
  },
  {
   "cell_type": "markdown",
   "metadata": {},
   "source": [
    "Alternatively, \n",
    "$$\n",
    "E^{phRPA}[w] = E^{HF} + E^{f-phRPA}_c\n",
    "$$\n",
    "the RPA correlation energy , $E^{f-phRPA}_c$, is given by:  \n",
    "$$\n",
    "E^{f-phRPA}_c = \\frac{1}{4}(\\sum_{w>0} w -Tr(A))\n",
    "$$"
   ]
  },
  {
   "cell_type": "markdown",
   "metadata": {},
   "source": [
    "where\n",
    "$$\n",
    "A_{ia,jb}=\\delta_{ij}\\delta_{ab}(\\epsilon_a - \\epsilon_i) + <aj||ib>\n",
    "$$\n",
    "from Eqs 6. and 7. in [Tahir 2019](https://doi.org/10.1103/PhysRevB.99.195149)."
   ]
  },
  {
   "cell_type": "markdown",
   "metadata": {},
   "source": [
    "Then, I want to compare $E^{phRPA}[\\gamma, \\Gamma]$ and $E^{phRPA}[w]$"
   ]
  },
  {
   "cell_type": "markdown",
   "metadata": {},
   "source": [
    "Numerical analysis:\n",
    "\n",
    "System: $H_2$ (disociation path).  \n",
    " \n",
    "I'll use PySCF's ph-RPA/TDHF implementation to evaluate $E^{phRPA}[w]$. \n",
    "Their code only allows transitions that conserve the spin, so this is one element of difference with our implementation of ph-RPA (generalized).\n",
    "\n",
    "Basis set: STO-6G (so that there are fewer transition states and the comparison be easier). "
   ]
  },
  {
   "cell_type": "code",
   "execution_count": 7,
   "metadata": {},
   "outputs": [],
   "source": [
    "# Import modules\n",
    "import numpy as np\n",
    "import matplotlib as mpl\n",
    "from matplotlib import pyplot\n",
    "import csv"
   ]
  },
  {
   "cell_type": "code",
   "execution_count": 4,
   "metadata": {},
   "outputs": [],
   "source": [
    "def plot_disoc(bonds, ehf, ecc, ephrpa, erdm, system, ylabel, ref='uhf', xunits='Bohr'):\n",
    "    reflabel = {'uhf': 'UHF', 'hf': 'RHF'}\n",
    "    # pyplot.rc('font', family='serif')\n",
    "    pyplot.rc('xtick', labelsize='x-small')\n",
    "    pyplot.rc('ytick', labelsize='x-small')\n",
    "    # Create figure and add axis\n",
    "    fig = pyplot.figure(figsize=(4, 3))\n",
    "    ax = fig.add_subplot(1, 1, 1)\n",
    "    # Add plots\n",
    "    ax.plot(bonds, ehf, marker='o', color=\"blue\", label=\"UHF\")\n",
    "    ax.plot(bonds, ecc, marker='*', color=\"green\", label=\"CCSD\")\n",
    "    ax.plot(bonds, ephrpa, marker='x', color=\"brown\", label=\"EphRPA_w\")\n",
    "    ax.plot(bonds, erdm, marker='s', color=\"black\", label=\"EphRDM_G\")\n",
    "    # Set the x axis\n",
    "    ax.set_xlabel('Bond distance (a.u.)')\n",
    "    # Set the y axis label of the current axis.\n",
    "    ax.set_ylabel('Energy (Ha)')\n",
    "    # Set a title of the current axes.\n",
    "    ax.set_title(f'{system} disociation, {BASIS}, ref {reflabel[ref]}')\n",
    "    # show a legend on the plot\n",
    "    ax.legend(bbox_to_anchor=(1, 1), loc=1, frameon=False, fontsize=10)\n",
    "    # Edit the major and minor ticks of the x and y axes\n",
    "    ax.xaxis.set_tick_params(which='major', size=7, width=1, direction='in', top='on')\n",
    "    ax.xaxis.set_tick_params(which='minor', size=4, width=1, direction='in', top='on')\n",
    "    ax.yaxis.set_tick_params(which='major', size=7, width=1, direction='out', right='on')\n",
    "    ax.yaxis.set_tick_params(which='minor', size=4, width=1, direction='out', right='on')\n",
    "    # Set the axis limits\n",
    "    ax.set_xlim(1.0, 3.0)\n",
    "    ax.set_ylim(-1.35, -1)\n",
    "    # Edit the major and minor tick locations\n",
    "    ax.xaxis.set_major_locator(mpl.ticker.MultipleLocator(0.5))\n",
    "    ax.xaxis.set_minor_locator(mpl.ticker.MultipleLocator(0.1))\n",
    "    ax.yaxis.set_major_locator(mpl.ticker.MultipleLocator(0.05))\n",
    "    # ax.yaxis.set_minor_locator(mpl.ticker.MultipleLocator(2))\n",
    "    # Display a figure.\n",
    "    pyplot.show()\n",
    "\n",
    "\n",
    "def parse_csv(pfile):\n",
    "    content = list(csv.DictReader(open(fpath, 'r',newline='')))\n",
    "    DBOND = [float(row['Bond']) for row in content]\n",
    "    ehf = [float(row[' E(UHF)_T']) for row in content]\n",
    "    ecc = [float(row[' E(CCSD)_T']) for row in content]\n",
    "    ephrpa = [float(row[' E(phRPA)_T']) for row in content]\n",
    "    erdm = [float(row[' E(RDM-ph)_T']) for row in content]\n",
    "    return DBOND, ehf, ecc, ephrpa, erdm"
   ]
  },
  {
   "cell_type": "code",
   "execution_count": 5,
   "metadata": {},
   "outputs": [],
   "source": [
    "molec = 'H2'\n",
    "units= 'Bohr'\n",
    "BASIS = 'sto-6g'\n",
    "EOM = 'phEOM'\n",
    "REFDET = 'uhf'\n",
    "NEXC = 2\n",
    "fpath = f'h2_{BASIS}_scuseriaRPA_vs_Erdm.csv' \n",
    "\n",
    "DBOND, ehf, ecc, ephrpa, erdm = parse_csv(fpath)"
   ]
  },
  {
   "cell_type": "code",
   "execution_count": 8,
   "metadata": {},
   "outputs": [
    {
     "data": {
      "image/png": "[encoded data removed]",
      "text/plain": [
       "<Figure size 288x216 with 1 Axes>"
      ]
     },
     "metadata": {
      "needs_background": "light"
     },
     "output_type": "display_data"
    }
   ],
   "source": [
    "plot_disoc(DBOND, ehf, ecc, ephrpa, erdm, molec, 'Energy (a.u)', ref=REFDET, xunits=units)"
   ]
  }
 ],
 "metadata": {
  "kernelspec": {
   "display_name": "Python 3",
   "language": "python",
   "name": "python3"
  },
  "language_info": {
   "codemirror_mode": {
    "name": "ipython",
    "version": 3
   },
   "file_extension": ".py",
   "mimetype": "text/x-python",
   "name": "python",
   "nbconvert_exporter": "python",
   "pygments_lexer": "ipython3",
   "version": "3.7.10"
  }
 },
 "nbformat": 4,
 "nbformat_minor": 4
}
