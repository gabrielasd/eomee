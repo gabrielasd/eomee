{
 "cells": [
  {
   "cell_type": "markdown",
   "metadata": {},
   "source": [
    "### GEP identifiying true solutions"
   ]
  },
  {
   "cell_type": "markdown",
   "metadata": {},
   "source": [
    "Define GEP\n",
    "\n",
    "$$\n",
    "A c = \\omega B c\n",
    "$$\n",
    "\n"
   ]
  },
  {
   "cell_type": "markdown",
   "metadata": {},
   "source": [
    "To rewrite as a standard EP one would like to do:\n",
    "$$\n",
    "B^{-1} A c = \\omega B^{-1} B U c\\\\\n",
    "B^{-1} A c = \\omega I c\n",
    "$$\n",
    "\n",
    "however, this requires that $B$ be invertible ($B$ is a non-singular matrix $==$ has non-zero determinant)\n",
    "\n",
    "Particle-hole EOM GEP has an indefinite $B$ matrix (symmetric with negative and positive eigenvalues), and, for a single slater determinant reference wfn, $B$ is singular, therefore, we can not directly use the method above."
   ]
  },
  {
   "cell_type": "markdown",
   "metadata": {},
   "source": [
    "Approaches for solving the singula EV problem:\n",
    "\n",
    "* thin SVD\n",
    "\n",
    "\\begin{align*}\n",
    "X_{(P \\times P)} &= U \\Sigma V^T\\\\\n",
    "&= \\sum^{r}_{i=1} \\sigma_i u_i v^T_i + \\sum^{P}_{i=r+1} 0 * u_i v^T_i\\\\\n",
    "&\\approx \\sum^{r}_{i=1} \\sigma_i u_i v^T_i\n",
    "\\end{align*}\n",
    "\n",
    "* Tikhonov regularization (aka. ridge regresion, weight decay, regularized least-squares)\n",
    "$$\n",
    "X = U \\Sigma V^T\\\\\n",
    "$$\n",
    "$$\n",
    "X^T X + \\lambda I =  V \\Sigma U^T  U \\Sigma V^T  + \\lambda V V^T\\\\\n",
    "X^T X + \\lambda I =  V (\\Sigma^2 + \\lambda I) V^T\n",
    "$$\n",
    "\n",
    "$V$, $V^T$ and $ (\\Sigma^2 + \\lambda I)$ are invertible matrices, their product is too and therefore also $X^T X + \\lambda I$.\n",
    "\n",
    "$\\lambda \\geq 0$, therefore $(\\Sigma^2 + \\lambda I) \\ge 0$\n",
    "\n",
    "\\begin{align*}\n",
    "X b &= \\omega&\\\\\n",
    "X^T X b &= X^T \\omega&\\\\\n",
    "b &= (X^T X)^{-1} X^T \\omega&\\\\\n",
    "b &\\approx (X^T X + \\lambda I)^{-1} X^T \\omega&\n",
    "\\end{align*}\n"
   ]
  },
  {
   "cell_type": "markdown",
   "metadata": {},
   "source": [
    "Tests:\n",
    "\n",
    "* check $|B|=0$\n"
   ]
  },
  {
   "cell_type": "markdown",
   "metadata": {},
   "source": [
    "* Try diferent approaches to deal with $B$'singular values:\n",
    "\n",
    "    * Make zero inverse of $B$'s singular values (Current method in EOM package): `Usvd`\n",
    "\n",
    "    * add small factor to $B$: : `Ushift`\n",
    "\n",
    "    * Remove eigenvectors in $B$'s null space (expand $A$ in new vector space, solve and transform EOM eigenvectors back): `Utrunc`\n",
    "\n",
    "    * Try appliying regularization: `Uridge`\n",
    "\n",
    "\\begin{align*}\n",
    "A c &= \\omega B c\\\\\n",
    "B^T A c &= \\omega B^T B c\\\\\n",
    "B^T A c &\\approx \\omega (B^T B + \\lambda I) c\n",
    "\\end{align*}\n"
   ]
  },
  {
   "cell_type": "markdown",
   "metadata": {},
   "source": [
    "Scripts used to do tests/generate data (not included):\n",
    "\n",
    "    test_pheom_energy_consistency.py"
   ]
  },
  {
   "cell_type": "code",
   "execution_count": 3,
   "metadata": {},
   "outputs": [],
   "source": [
    "# Import modules\n",
    "import numpy as np\n",
    "import csv\n",
    "import matplotlib as mpl\n",
    "from matplotlib import pyplot\n",
    "\n",
    "from prettytable import from_csv"
   ]
  },
  {
   "cell_type": "code",
   "execution_count": 13,
   "metadata": {},
   "outputs": [],
   "source": [
    "def parse_csv(pfile):\n",
    "    content = list(csv.DictReader(open(pfile, 'r',newline='')))\n",
    "    Bond = [float(row['Bond']) for row in content]\n",
    "    epyscf = [float(row['PySCF']) for row in content]\n",
    "    eUsvd = [float(row['Usvd']) for row in content]\n",
    "    eUtrunc = [float(row['Utrunc']) for row in content]\n",
    "    eUshift = [float(row['Ushift']) for row in content]\n",
    "    eUridge = [float(row['Uridge']) for row in content]\n",
    "    return Bond, epyscf, eUsvd, eUtrunc, eUshift, eUridge\n",
    "\n",
    "\n",
    "def plot_disoc(bonds, eref, default, utrunc, ushift, uridge, system, basis, ref='uhf', xunits='Bohr', lims=None):\n",
    "    reflabel = {'uhf': 'UHF', 'hf': 'RHF'}\n",
    "    # pyplot.rc('font', family='serif')\n",
    "    pyplot.rc('xtick', labelsize='x-small')\n",
    "    pyplot.rc('ytick', labelsize='x-small')\n",
    "    # Create figure and add axis\n",
    "    fig = pyplot.figure(figsize=(4, 3))\n",
    "    ax = fig.add_subplot(1, 1, 1)\n",
    "    # Add plots\n",
    "    ax.plot(bonds, eref, marker='o', color=\"blue\", label=\"PySCF\")\n",
    "    ax.plot(bonds, default, marker='o', color=\"black\", label=\"U-SVD\")\n",
    "    ax.plot(bonds, utrunc, marker='*', color=\"green\", label=\"U-trunc\")\n",
    "    ax.plot(bonds, ushift, marker='*', color=\"black\", label=\"U-shift\")\n",
    "    ax.plot(bonds, uridge, marker='x', color=\"brown\", label=\"U-ridge\")\n",
    "\n",
    "    # Set the x axis\n",
    "    ax.set_xlabel(f'Bond distance {xunits}')\n",
    "    # Set the y axis label of the current axis.\n",
    "    ax.set_ylabel('Energy (Ha)')\n",
    "    # Set a title of the current axes.\n",
    "    ax.set_title(f'{system} disociation, {basis}, ref {reflabel[ref]}')\n",
    "    # show a legend on the plot\n",
    "    ax.legend(bbox_to_anchor=(1, 1), loc=1, frameon=False, fontsize=10)\n",
    "    # Edit the major and minor ticks of the x and y axes\n",
    "    ax.xaxis.set_tick_params(which='major', size=7, width=1, direction='in', top='on')\n",
    "    ax.xaxis.set_tick_params(which='minor', size=4, width=1, direction='in', top='on')\n",
    "    ax.yaxis.set_tick_params(which='major', size=7, width=1, direction='out', right='on')\n",
    "    ax.yaxis.set_tick_params(which='minor', size=4, width=1, direction='out', right='on')\n",
    "    # Set the axis limits\n",
    "    if lims is not None:\n",
    "        ax.set_xlim(lims['x'][0], lims['x'][1])\n",
    "        ax.set_ylim(lims['y'][0], lims['y'][1])\n",
    "    # Edit the major and minor tick locations\n",
    "    ax.xaxis.set_major_locator(mpl.ticker.MultipleLocator(0.5))\n",
    "    ax.xaxis.set_minor_locator(mpl.ticker.MultipleLocator(0.1))\n",
    "    ax.yaxis.set_major_locator(mpl.ticker.MultipleLocator(0.05))\n",
    "    # ax.yaxis.set_minor_locator(mpl.ticker.MultipleLocator(2))\n",
    "    # Display a figure.\n",
    "    pyplot.show()"
   ]
  },
  {
   "cell_type": "markdown",
   "metadata": {},
   "source": [
    "Test 1\n",
    "======\n",
    "\n",
    "Repeat 10 times de solution to the GEVP using the procedures listed above to transform it into a standard EVP. From the solution eigenvectors the 2-RDM is reconstructed and the ground state energy evaluated; this is the final magniture used to make comparisons. On each iteration the same Hamiltonian matrix (from UHF) is used by all methods.\n",
    "\n",
    "The results in the table bellow show that Usvd, Utrunc and Uridge are equivalent and tend to be closer to the result from PySCF RPA. However from one iteration to the next, their solutions change.\n",
    "\n",
    "The methods where either the left-hand-side or both sides are shifted by a small factor (Ushift and AUshift) deviate significantly from the other three (around 0.3-1.0 a.u.), however they give more stable results (they are more robust?)\n"
   ]
  },
  {
   "cell_type": "code",
   "execution_count": 9,
   "metadata": {},
   "outputs": [
    {
     "name": "stdout",
     "output_type": "stream",
     "text": [
      "+------+---------------------+---------------------+---------------------+---------------------+---------------------+---------------------+\n",
      "| Iter |        PySCF        |         Usvd        |        Utrunc       |        Ushift       |        Uridge       |       AUshift       |\n",
      "+------+---------------------+---------------------+---------------------+---------------------+---------------------+---------------------+\n",
      "|  1   | -1.2121730614490231 |  -1.310005698336214 | -1.3100056983362107 | -1.5933260675444103 | -1.3100056983362056 | -1.9731272485455096 |\n",
      "|  2   | -1.2121730614490231 | -1.2608506224987677 |  -1.260850622498757 | -1.6130743489694603 | -1.2608506224988063 | -1.9731337789065981 |\n",
      "|  3   | -1.2121730614490231 | -1.1980610142521904 | -1.1980610142521906 | -1.6111426487699356 | -1.1980610142521906 | -1.9731328926451148 |\n",
      "|  4   | -1.2121730614490231 | -1.3745707837873318 | -1.3745707837873358 |   -1.592134272639   | -1.3745707837873418 |  -1.973133798398506 |\n",
      "|  5   | -1.2121730614490231 | -1.1980610142521908 | -1.1980610142521904 | -1.6110816353570099 | -1.1980610142521901 | -1.9731325640270148 |\n",
      "|  6   | -1.2121730614490231 |  -1.378709242642601 | -1.3787092426425964 | -1.6129712910372056 | -1.3787092426426097 | -1.9731341136639795 |\n",
      "|  7   | -1.2121730614490231 | -1.3149661969077242 | -1.3149661969077313 | -1.6053209781799893 | -1.3149661969077522 |  -1.973127624436236 |\n",
      "|  8   | -1.2121730614490231 | -1.1980610142521901 | -1.1980610142521901 | -1.6111525381033334 | -1.1980610142521897 |  -1.973132466508115 |\n",
      "|  9   | -1.2121730614490231 | -1.1980610142521908 | -1.1980610142521906 | -1.6111622797036047 |  -1.198061014252191 | -1.9731354755938793 |\n",
      "|  10  | -1.2121730614490231 | -1.3121236175069426 | -1.3121236175069448 | -1.5960683955645127 | -1.3121236175069915 | -1.9731312561069503 |\n",
      "+------+---------------------+---------------------+---------------------+---------------------+---------------------+---------------------+\n"
     ]
    }
   ],
   "source": [
    "\n",
    "csvf = \"test_pheom_energy_consistency_h2_6-31G(d,p)_b_1.4.csv\"\n",
    "with open(csvf, \"r\") as fp: \n",
    "    x = from_csv(fp, delimiter=',')\n",
    "    \n",
    "print(x)"
   ]
  },
  {
   "cell_type": "markdown",
   "metadata": {},
   "source": [
    "Test 1\n",
    "======\n",
    "\n",
    "The next graph of $H_2$ disociation path aims to show that the equivalence between the procedures Usvd, Utrunc and Uridge is independent of the geometry chosen for the molecule."
   ]
  },
  {
   "cell_type": "code",
   "execution_count": 10,
   "metadata": {},
   "outputs": [],
   "source": [
    "csvf = \"test_pheom_energy_stability_h2_cc-pvdz_PES.csv\"\n",
    "molec = 'H2'\n",
    "basis = '6-31G(d,p)'\n",
    "xy_lims = {'x': [1.0, 5.0], 'y':[-1.35, -0.95]}"
   ]
  },
  {
   "cell_type": "code",
   "execution_count": 11,
   "metadata": {},
   "outputs": [],
   "source": [
    "# Parse data file in csv frmat\n",
    "bonds, epyscf, eUsvd, eUtrunc, eUshift, eUridge = parse_csv(csvf)"
   ]
  },
  {
   "cell_type": "code",
   "execution_count": null,
   "metadata": {},
   "outputs": [],
   "source": [
    "# Disociation path of H2 from diferent GEVP solver procedures\n",
    "plot_disoc(bonds, epyscf, eUsvd, eUtrunc, eUshift, eUridge, molec, basis, ref='uhf', xunits='Bohr', lims=None)"
   ]
  },
  {
   "cell_type": "markdown",
   "metadata": {},
   "source": [
    "Test 3\n",
    "======\n",
    "\n",
    "Take, for example, the standard GEVP solver in the EOM package, and using the same Hamiltonian matrix as input to the EOM equations, solve two times.\n",
    "\n",
    "In this case the same answer is obtained every time.\n",
    "\n",
    "See function `compare_phrpa_instances(atom, bond, basis, spin, unit=\"Bohr\", mode=None)` in test_pheom_energy_consistency.py"
   ]
  },
  {
   "cell_type": "markdown",
   "metadata": {},
   "source": [
    "Conclusion:\n",
    "\n",
    "These tests lead to think that the observed energy instability is not due to singularities on the left-hand-sie matrix of the GEVP, but due to changes in the input parameters, in particular the Hamiltonian matrix elements."
   ]
  }
 ],
 "metadata": {
  "kernelspec": {
   "display_name": "Python 3.7.12 ('qcdevs')",
   "language": "python",
   "name": "python3"
  },
  "language_info": {
   "codemirror_mode": {
    "name": "ipython",
    "version": 3
   },
   "file_extension": ".py",
   "mimetype": "text/x-python",
   "name": "python",
   "nbconvert_exporter": "python",
   "pygments_lexer": "ipython3",
   "version": "3.7.12"
  },
  "vscode": {
   "interpreter": {
    "hash": "4846203d052f4918654383d2fa4dc83e5f0e073317ccb4eea0fa3b82d0bd9d45"
   }
  }
 },
 "nbformat": 4,
 "nbformat_minor": 4
}
